{
  "nbformat": 4,
  "nbformat_minor": 0,
  "metadata": {
    "colab": {
      "name": "ДЗ№4_Шмелёв.ipynb",
      "provenance": [],
      "collapsed_sections": []
    },
    "kernelspec": {
      "name": "python3",
      "display_name": "Python 3"
    }
  },
  "cells": [
    {
      "cell_type": "code",
      "metadata": {
        "id": "bzEXbxmA9_wX"
      },
      "source": [
        "import numpy as np\n",
        "import pandas as pd\n",
        "import matplotlib.pyplot as plt\n",
        "from scipy.stats import norm\n",
        "import seaborn as sns\n",
        "import scipy.stats\n",
        "import scipy as sp"
      ],
      "execution_count": 3,
      "outputs": []
    },
    {
      "cell_type": "markdown",
      "metadata": {
        "id": "Xx_OFyJOx8iK"
      },
      "source": [
        "# Задача №1 (3б)\n",
        "\n",
        "Пусткай у вас имеется датасет с описанием людей и меткой ' <=50K', которая показывает, получает ли человек (в США) более или менее 50к$ в год. Используя теорему Байеса покажите, что с ростом образования вероятность получать >50k в год растет.\n",
        "\n",
        "Код загрузки данных и результирующая таблица предоставлены.\n",
        "\n",
        "[Подсказка, теорема Байеса говорит нам, что\n",
        "\n",
        "$$P( > или < 50k|класс-образования) = \\frac{P(класс-образования | > или < 50k) * P(> или < 50k)}{P(наблюдать-этот-класс-образования)}$$\n",
        "\n",
        "\n",
        "Для лаконичной агрегации данных в pandas встроена функция [group by](https://realpython.com/pandas-groupby/)\n",
        "]"
      ]
    },
    {
      "cell_type": "code",
      "metadata": {
        "id": "vkOIZxA-xsug"
      },
      "source": [
        "df_temp = pd.read_csv('https://archive.ics.uci.edu/ml/machine-learning-databases/adult/adult.data')"
      ],
      "execution_count": 2,
      "outputs": []
    },
    {
      "cell_type": "code",
      "metadata": {
        "id": "mxTpmI2t9-YY",
        "colab": {
          "base_uri": "https://localhost:8080/",
          "height": 394
        },
        "outputId": "c4769f6a-16da-412b-ae16-c284c7abe440"
      },
      "source": [
        "df_temp.head()"
      ],
      "execution_count": 3,
      "outputs": [
        {
          "output_type": "execute_result",
          "data": {
            "text/html": [
              "<div>\n",
              "<style scoped>\n",
              "    .dataframe tbody tr th:only-of-type {\n",
              "        vertical-align: middle;\n",
              "    }\n",
              "\n",
              "    .dataframe tbody tr th {\n",
              "        vertical-align: top;\n",
              "    }\n",
              "\n",
              "    .dataframe thead th {\n",
              "        text-align: right;\n",
              "    }\n",
              "</style>\n",
              "<table border=\"1\" class=\"dataframe\">\n",
              "  <thead>\n",
              "    <tr style=\"text-align: right;\">\n",
              "      <th></th>\n",
              "      <th>39</th>\n",
              "      <th>State-gov</th>\n",
              "      <th>77516</th>\n",
              "      <th>Bachelors</th>\n",
              "      <th>13</th>\n",
              "      <th>Never-married</th>\n",
              "      <th>Adm-clerical</th>\n",
              "      <th>Not-in-family</th>\n",
              "      <th>White</th>\n",
              "      <th>Male</th>\n",
              "      <th>2174</th>\n",
              "      <th>0</th>\n",
              "      <th>40</th>\n",
              "      <th>United-States</th>\n",
              "      <th>&lt;=50K</th>\n",
              "    </tr>\n",
              "  </thead>\n",
              "  <tbody>\n",
              "    <tr>\n",
              "      <th>0</th>\n",
              "      <td>50</td>\n",
              "      <td>Self-emp-not-inc</td>\n",
              "      <td>83311</td>\n",
              "      <td>Bachelors</td>\n",
              "      <td>13</td>\n",
              "      <td>Married-civ-spouse</td>\n",
              "      <td>Exec-managerial</td>\n",
              "      <td>Husband</td>\n",
              "      <td>White</td>\n",
              "      <td>Male</td>\n",
              "      <td>0</td>\n",
              "      <td>0</td>\n",
              "      <td>13</td>\n",
              "      <td>United-States</td>\n",
              "      <td>&lt;=50K</td>\n",
              "    </tr>\n",
              "    <tr>\n",
              "      <th>1</th>\n",
              "      <td>38</td>\n",
              "      <td>Private</td>\n",
              "      <td>215646</td>\n",
              "      <td>HS-grad</td>\n",
              "      <td>9</td>\n",
              "      <td>Divorced</td>\n",
              "      <td>Handlers-cleaners</td>\n",
              "      <td>Not-in-family</td>\n",
              "      <td>White</td>\n",
              "      <td>Male</td>\n",
              "      <td>0</td>\n",
              "      <td>0</td>\n",
              "      <td>40</td>\n",
              "      <td>United-States</td>\n",
              "      <td>&lt;=50K</td>\n",
              "    </tr>\n",
              "    <tr>\n",
              "      <th>2</th>\n",
              "      <td>53</td>\n",
              "      <td>Private</td>\n",
              "      <td>234721</td>\n",
              "      <td>11th</td>\n",
              "      <td>7</td>\n",
              "      <td>Married-civ-spouse</td>\n",
              "      <td>Handlers-cleaners</td>\n",
              "      <td>Husband</td>\n",
              "      <td>Black</td>\n",
              "      <td>Male</td>\n",
              "      <td>0</td>\n",
              "      <td>0</td>\n",
              "      <td>40</td>\n",
              "      <td>United-States</td>\n",
              "      <td>&lt;=50K</td>\n",
              "    </tr>\n",
              "    <tr>\n",
              "      <th>3</th>\n",
              "      <td>28</td>\n",
              "      <td>Private</td>\n",
              "      <td>338409</td>\n",
              "      <td>Bachelors</td>\n",
              "      <td>13</td>\n",
              "      <td>Married-civ-spouse</td>\n",
              "      <td>Prof-specialty</td>\n",
              "      <td>Wife</td>\n",
              "      <td>Black</td>\n",
              "      <td>Female</td>\n",
              "      <td>0</td>\n",
              "      <td>0</td>\n",
              "      <td>40</td>\n",
              "      <td>Cuba</td>\n",
              "      <td>&lt;=50K</td>\n",
              "    </tr>\n",
              "    <tr>\n",
              "      <th>4</th>\n",
              "      <td>37</td>\n",
              "      <td>Private</td>\n",
              "      <td>284582</td>\n",
              "      <td>Masters</td>\n",
              "      <td>14</td>\n",
              "      <td>Married-civ-spouse</td>\n",
              "      <td>Exec-managerial</td>\n",
              "      <td>Wife</td>\n",
              "      <td>White</td>\n",
              "      <td>Female</td>\n",
              "      <td>0</td>\n",
              "      <td>0</td>\n",
              "      <td>40</td>\n",
              "      <td>United-States</td>\n",
              "      <td>&lt;=50K</td>\n",
              "    </tr>\n",
              "  </tbody>\n",
              "</table>\n",
              "</div>"
            ],
            "text/plain": [
              "   39          State-gov   77516   Bachelors  ...   0  40   United-States   <=50K\n",
              "0  50   Self-emp-not-inc   83311   Bachelors  ...   0  13   United-States   <=50K\n",
              "1  38            Private  215646     HS-grad  ...   0  40   United-States   <=50K\n",
              "2  53            Private  234721        11th  ...   0  40   United-States   <=50K\n",
              "3  28            Private  338409   Bachelors  ...   0  40            Cuba   <=50K\n",
              "4  37            Private  284582     Masters  ...   0  40   United-States   <=50K\n",
              "\n",
              "[5 rows x 15 columns]"
            ]
          },
          "metadata": {
            "tags": []
          },
          "execution_count": 3
        }
      ]
    },
    {
      "cell_type": "code",
      "metadata": {
        "id": "r_-ugOFL-AaK",
        "colab": {
          "base_uri": "https://localhost:8080/",
          "height": 204
        },
        "outputId": "291e03ab-8b98-4001-f033-7f518d1470c7"
      },
      "source": [
        "df_temp_2 = df_temp[[' Bachelors',' <=50K']]\n",
        "df_temp_2.head()"
      ],
      "execution_count": 4,
      "outputs": [
        {
          "output_type": "execute_result",
          "data": {
            "text/html": [
              "<div>\n",
              "<style scoped>\n",
              "    .dataframe tbody tr th:only-of-type {\n",
              "        vertical-align: middle;\n",
              "    }\n",
              "\n",
              "    .dataframe tbody tr th {\n",
              "        vertical-align: top;\n",
              "    }\n",
              "\n",
              "    .dataframe thead th {\n",
              "        text-align: right;\n",
              "    }\n",
              "</style>\n",
              "<table border=\"1\" class=\"dataframe\">\n",
              "  <thead>\n",
              "    <tr style=\"text-align: right;\">\n",
              "      <th></th>\n",
              "      <th>Bachelors</th>\n",
              "      <th>&lt;=50K</th>\n",
              "    </tr>\n",
              "  </thead>\n",
              "  <tbody>\n",
              "    <tr>\n",
              "      <th>0</th>\n",
              "      <td>Bachelors</td>\n",
              "      <td>&lt;=50K</td>\n",
              "    </tr>\n",
              "    <tr>\n",
              "      <th>1</th>\n",
              "      <td>HS-grad</td>\n",
              "      <td>&lt;=50K</td>\n",
              "    </tr>\n",
              "    <tr>\n",
              "      <th>2</th>\n",
              "      <td>11th</td>\n",
              "      <td>&lt;=50K</td>\n",
              "    </tr>\n",
              "    <tr>\n",
              "      <th>3</th>\n",
              "      <td>Bachelors</td>\n",
              "      <td>&lt;=50K</td>\n",
              "    </tr>\n",
              "    <tr>\n",
              "      <th>4</th>\n",
              "      <td>Masters</td>\n",
              "      <td>&lt;=50K</td>\n",
              "    </tr>\n",
              "  </tbody>\n",
              "</table>\n",
              "</div>"
            ],
            "text/plain": [
              "    Bachelors   <=50K\n",
              "0   Bachelors   <=50K\n",
              "1     HS-grad   <=50K\n",
              "2        11th   <=50K\n",
              "3   Bachelors   <=50K\n",
              "4     Masters   <=50K"
            ]
          },
          "metadata": {
            "tags": []
          },
          "execution_count": 4
        }
      ]
    },
    {
      "cell_type": "code",
      "metadata": {
        "colab": {
          "base_uri": "https://localhost:8080/"
        },
        "id": "FeGfD1pLy4Ic",
        "outputId": "ae8c4683-3b09-48d3-e410-93e415a3f943"
      },
      "source": [
        "df_counts_bachelors = pd.Series(df_temp_2[' Bachelors'].value_counts())\n",
        "df_counts_bachelors"
      ],
      "execution_count": 5,
      "outputs": [
        {
          "output_type": "execute_result",
          "data": {
            "text/plain": [
              " HS-grad         10501\n",
              " Some-college     7291\n",
              " Bachelors        5354\n",
              " Masters          1723\n",
              " Assoc-voc        1382\n",
              " 11th             1175\n",
              " Assoc-acdm       1067\n",
              " 10th              933\n",
              " 7th-8th           646\n",
              " Prof-school       576\n",
              " 9th               514\n",
              " 12th              433\n",
              " Doctorate         413\n",
              " 5th-6th           333\n",
              " 1st-4th           168\n",
              " Preschool          51\n",
              "Name:  Bachelors, dtype: int64"
            ]
          },
          "metadata": {
            "tags": []
          },
          "execution_count": 5
        }
      ]
    },
    {
      "cell_type": "code",
      "metadata": {
        "id": "i9ilrPY7-DWy",
        "colab": {
          "base_uri": "https://localhost:8080/"
        },
        "outputId": "3d1aff32-c69b-467d-e958-e4c57b6f493f"
      },
      "source": [
        "df_temp_2[' <=50K'].value_counts()"
      ],
      "execution_count": 6,
      "outputs": [
        {
          "output_type": "execute_result",
          "data": {
            "text/plain": [
              " <=50K    24719\n",
              " >50K      7841\n",
              "Name:  <=50K, dtype: int64"
            ]
          },
          "metadata": {
            "tags": []
          },
          "execution_count": 6
        }
      ]
    },
    {
      "cell_type": "code",
      "metadata": {
        "id": "OVqwaLUl-EOK",
        "colab": {
          "base_uri": "https://localhost:8080/"
        },
        "outputId": "df36045a-b216-4a3f-8eb6-30cd119762c0"
      },
      "source": [
        "df_temp[' <=50K'].value_counts()/len(df_temp)"
      ],
      "execution_count": 7,
      "outputs": [
        {
          "output_type": "execute_result",
          "data": {
            "text/plain": [
              " <=50K    0.759183\n",
              " >50K     0.240817\n",
              "Name:  <=50K, dtype: float64"
            ]
          },
          "metadata": {
            "tags": []
          },
          "execution_count": 7
        }
      ]
    },
    {
      "cell_type": "markdown",
      "metadata": {
        "id": "jPJvUjC7-LBB"
      },
      "source": [
        "Подсказка: см. мультииндекс и groupby\n",
        "\n",
        "Да, код не иметь \"красивое\" решение"
      ]
    },
    {
      "cell_type": "code",
      "metadata": {
        "id": "ObDr4l1k-F7S",
        "colab": {
          "base_uri": "https://localhost:8080/",
          "height": 1000
        },
        "outputId": "edb88f83-5d4b-4362-9462-c1bd133f7095"
      },
      "source": [
        "df_temp['edu']=df_temp[' <=50K']\n",
        "df_temp_gr = df_temp.groupby([' Bachelors', ' <=50K'])[['39']]\n",
        "df_final = df_temp_gr.count()\n",
        "df_final['<=50K']=df_final['39']\n",
        "df_final['Всего людей по классу образования']=df_final.groupby(level=0)['39'].transform('sum')# делает группировку (сумма) по первому уровню индекса\n",
        "df_final['P(наблюдать этот класс образования)']=df_final['Всего людей по классу образования']/df_final['<=50K'].sum()\n",
        "df_final['P(> или < 50k)']=df_final.groupby(level=1)['39'].transform('sum')/df_counts_bachelors.sum()\n",
        "df_final['P(класс образования | > или < 50k']=df_final['<=50K']/df_final.groupby(level=1)['39'].transform('sum')\n",
        "df_final['P(> или < 50K | класс образования)']=df_final['<=50K']/df_final['Всего людей по классу образования']\n",
        "df_counts_bachelors.sum()\n",
        "df_final.drop('39', axis=1, inplace=True)\n",
        "df_final"
      ],
      "execution_count": 14,
      "outputs": [
        {
          "output_type": "execute_result",
          "data": {
            "text/html": [
              "<div>\n",
              "<style scoped>\n",
              "    .dataframe tbody tr th:only-of-type {\n",
              "        vertical-align: middle;\n",
              "    }\n",
              "\n",
              "    .dataframe tbody tr th {\n",
              "        vertical-align: top;\n",
              "    }\n",
              "\n",
              "    .dataframe thead th {\n",
              "        text-align: right;\n",
              "    }\n",
              "</style>\n",
              "<table border=\"1\" class=\"dataframe\">\n",
              "  <thead>\n",
              "    <tr style=\"text-align: right;\">\n",
              "      <th></th>\n",
              "      <th></th>\n",
              "      <th>&lt;=50K</th>\n",
              "      <th>Всего людей по классу образования</th>\n",
              "      <th>P(наблюдать этот класс образования)</th>\n",
              "      <th>P(&gt; или &lt; 50k)</th>\n",
              "      <th>P(класс образования | &gt; или &lt; 50k</th>\n",
              "      <th>P(&gt; или &lt; 50K | класс образования)</th>\n",
              "    </tr>\n",
              "    <tr>\n",
              "      <th>Bachelors</th>\n",
              "      <th>&lt;=50K</th>\n",
              "      <th></th>\n",
              "      <th></th>\n",
              "      <th></th>\n",
              "      <th></th>\n",
              "      <th></th>\n",
              "      <th></th>\n",
              "    </tr>\n",
              "  </thead>\n",
              "  <tbody>\n",
              "    <tr>\n",
              "      <th rowspan=\"2\" valign=\"top\">10th</th>\n",
              "      <th>&lt;=50K</th>\n",
              "      <td>871</td>\n",
              "      <td>933</td>\n",
              "      <td>0.028655</td>\n",
              "      <td>0.759183</td>\n",
              "      <td>0.035236</td>\n",
              "      <td>0.933548</td>\n",
              "    </tr>\n",
              "    <tr>\n",
              "      <th>&gt;50K</th>\n",
              "      <td>62</td>\n",
              "      <td>933</td>\n",
              "      <td>0.028655</td>\n",
              "      <td>0.240817</td>\n",
              "      <td>0.007907</td>\n",
              "      <td>0.066452</td>\n",
              "    </tr>\n",
              "    <tr>\n",
              "      <th rowspan=\"2\" valign=\"top\">11th</th>\n",
              "      <th>&lt;=50K</th>\n",
              "      <td>1115</td>\n",
              "      <td>1175</td>\n",
              "      <td>0.036087</td>\n",
              "      <td>0.759183</td>\n",
              "      <td>0.045107</td>\n",
              "      <td>0.948936</td>\n",
              "    </tr>\n",
              "    <tr>\n",
              "      <th>&gt;50K</th>\n",
              "      <td>60</td>\n",
              "      <td>1175</td>\n",
              "      <td>0.036087</td>\n",
              "      <td>0.240817</td>\n",
              "      <td>0.007652</td>\n",
              "      <td>0.051064</td>\n",
              "    </tr>\n",
              "    <tr>\n",
              "      <th rowspan=\"2\" valign=\"top\">12th</th>\n",
              "      <th>&lt;=50K</th>\n",
              "      <td>400</td>\n",
              "      <td>433</td>\n",
              "      <td>0.013299</td>\n",
              "      <td>0.759183</td>\n",
              "      <td>0.016182</td>\n",
              "      <td>0.923788</td>\n",
              "    </tr>\n",
              "    <tr>\n",
              "      <th>&gt;50K</th>\n",
              "      <td>33</td>\n",
              "      <td>433</td>\n",
              "      <td>0.013299</td>\n",
              "      <td>0.240817</td>\n",
              "      <td>0.004209</td>\n",
              "      <td>0.076212</td>\n",
              "    </tr>\n",
              "    <tr>\n",
              "      <th rowspan=\"2\" valign=\"top\">1st-4th</th>\n",
              "      <th>&lt;=50K</th>\n",
              "      <td>162</td>\n",
              "      <td>168</td>\n",
              "      <td>0.005160</td>\n",
              "      <td>0.759183</td>\n",
              "      <td>0.006554</td>\n",
              "      <td>0.964286</td>\n",
              "    </tr>\n",
              "    <tr>\n",
              "      <th>&gt;50K</th>\n",
              "      <td>6</td>\n",
              "      <td>168</td>\n",
              "      <td>0.005160</td>\n",
              "      <td>0.240817</td>\n",
              "      <td>0.000765</td>\n",
              "      <td>0.035714</td>\n",
              "    </tr>\n",
              "    <tr>\n",
              "      <th rowspan=\"2\" valign=\"top\">5th-6th</th>\n",
              "      <th>&lt;=50K</th>\n",
              "      <td>317</td>\n",
              "      <td>333</td>\n",
              "      <td>0.010227</td>\n",
              "      <td>0.759183</td>\n",
              "      <td>0.012824</td>\n",
              "      <td>0.951952</td>\n",
              "    </tr>\n",
              "    <tr>\n",
              "      <th>&gt;50K</th>\n",
              "      <td>16</td>\n",
              "      <td>333</td>\n",
              "      <td>0.010227</td>\n",
              "      <td>0.240817</td>\n",
              "      <td>0.002041</td>\n",
              "      <td>0.048048</td>\n",
              "    </tr>\n",
              "    <tr>\n",
              "      <th rowspan=\"2\" valign=\"top\">7th-8th</th>\n",
              "      <th>&lt;=50K</th>\n",
              "      <td>606</td>\n",
              "      <td>646</td>\n",
              "      <td>0.019840</td>\n",
              "      <td>0.759183</td>\n",
              "      <td>0.024516</td>\n",
              "      <td>0.938080</td>\n",
              "    </tr>\n",
              "    <tr>\n",
              "      <th>&gt;50K</th>\n",
              "      <td>40</td>\n",
              "      <td>646</td>\n",
              "      <td>0.019840</td>\n",
              "      <td>0.240817</td>\n",
              "      <td>0.005101</td>\n",
              "      <td>0.061920</td>\n",
              "    </tr>\n",
              "    <tr>\n",
              "      <th rowspan=\"2\" valign=\"top\">9th</th>\n",
              "      <th>&lt;=50K</th>\n",
              "      <td>487</td>\n",
              "      <td>514</td>\n",
              "      <td>0.015786</td>\n",
              "      <td>0.759183</td>\n",
              "      <td>0.019701</td>\n",
              "      <td>0.947471</td>\n",
              "    </tr>\n",
              "    <tr>\n",
              "      <th>&gt;50K</th>\n",
              "      <td>27</td>\n",
              "      <td>514</td>\n",
              "      <td>0.015786</td>\n",
              "      <td>0.240817</td>\n",
              "      <td>0.003443</td>\n",
              "      <td>0.052529</td>\n",
              "    </tr>\n",
              "    <tr>\n",
              "      <th rowspan=\"2\" valign=\"top\">Assoc-acdm</th>\n",
              "      <th>&lt;=50K</th>\n",
              "      <td>802</td>\n",
              "      <td>1067</td>\n",
              "      <td>0.032770</td>\n",
              "      <td>0.759183</td>\n",
              "      <td>0.032445</td>\n",
              "      <td>0.751640</td>\n",
              "    </tr>\n",
              "    <tr>\n",
              "      <th>&gt;50K</th>\n",
              "      <td>265</td>\n",
              "      <td>1067</td>\n",
              "      <td>0.032770</td>\n",
              "      <td>0.240817</td>\n",
              "      <td>0.033797</td>\n",
              "      <td>0.248360</td>\n",
              "    </tr>\n",
              "    <tr>\n",
              "      <th rowspan=\"2\" valign=\"top\">Assoc-voc</th>\n",
              "      <th>&lt;=50K</th>\n",
              "      <td>1021</td>\n",
              "      <td>1382</td>\n",
              "      <td>0.042445</td>\n",
              "      <td>0.759183</td>\n",
              "      <td>0.041304</td>\n",
              "      <td>0.738784</td>\n",
              "    </tr>\n",
              "    <tr>\n",
              "      <th>&gt;50K</th>\n",
              "      <td>361</td>\n",
              "      <td>1382</td>\n",
              "      <td>0.042445</td>\n",
              "      <td>0.240817</td>\n",
              "      <td>0.046040</td>\n",
              "      <td>0.261216</td>\n",
              "    </tr>\n",
              "    <tr>\n",
              "      <th rowspan=\"2\" valign=\"top\">Bachelors</th>\n",
              "      <th>&lt;=50K</th>\n",
              "      <td>3133</td>\n",
              "      <td>5354</td>\n",
              "      <td>0.164435</td>\n",
              "      <td>0.759183</td>\n",
              "      <td>0.126745</td>\n",
              "      <td>0.585170</td>\n",
              "    </tr>\n",
              "    <tr>\n",
              "      <th>&gt;50K</th>\n",
              "      <td>2221</td>\n",
              "      <td>5354</td>\n",
              "      <td>0.164435</td>\n",
              "      <td>0.240817</td>\n",
              "      <td>0.283255</td>\n",
              "      <td>0.414830</td>\n",
              "    </tr>\n",
              "    <tr>\n",
              "      <th rowspan=\"2\" valign=\"top\">Doctorate</th>\n",
              "      <th>&lt;=50K</th>\n",
              "      <td>107</td>\n",
              "      <td>413</td>\n",
              "      <td>0.012684</td>\n",
              "      <td>0.759183</td>\n",
              "      <td>0.004329</td>\n",
              "      <td>0.259080</td>\n",
              "    </tr>\n",
              "    <tr>\n",
              "      <th>&gt;50K</th>\n",
              "      <td>306</td>\n",
              "      <td>413</td>\n",
              "      <td>0.012684</td>\n",
              "      <td>0.240817</td>\n",
              "      <td>0.039026</td>\n",
              "      <td>0.740920</td>\n",
              "    </tr>\n",
              "    <tr>\n",
              "      <th rowspan=\"2\" valign=\"top\">HS-grad</th>\n",
              "      <th>&lt;=50K</th>\n",
              "      <td>8826</td>\n",
              "      <td>10501</td>\n",
              "      <td>0.322512</td>\n",
              "      <td>0.759183</td>\n",
              "      <td>0.357053</td>\n",
              "      <td>0.840491</td>\n",
              "    </tr>\n",
              "    <tr>\n",
              "      <th>&gt;50K</th>\n",
              "      <td>1675</td>\n",
              "      <td>10501</td>\n",
              "      <td>0.322512</td>\n",
              "      <td>0.240817</td>\n",
              "      <td>0.213621</td>\n",
              "      <td>0.159509</td>\n",
              "    </tr>\n",
              "    <tr>\n",
              "      <th rowspan=\"2\" valign=\"top\">Masters</th>\n",
              "      <th>&lt;=50K</th>\n",
              "      <td>764</td>\n",
              "      <td>1723</td>\n",
              "      <td>0.052918</td>\n",
              "      <td>0.759183</td>\n",
              "      <td>0.030907</td>\n",
              "      <td>0.443413</td>\n",
              "    </tr>\n",
              "    <tr>\n",
              "      <th>&gt;50K</th>\n",
              "      <td>959</td>\n",
              "      <td>1723</td>\n",
              "      <td>0.052918</td>\n",
              "      <td>0.240817</td>\n",
              "      <td>0.122306</td>\n",
              "      <td>0.556587</td>\n",
              "    </tr>\n",
              "    <tr>\n",
              "      <th>Preschool</th>\n",
              "      <th>&lt;=50K</th>\n",
              "      <td>51</td>\n",
              "      <td>51</td>\n",
              "      <td>0.001566</td>\n",
              "      <td>0.759183</td>\n",
              "      <td>0.002063</td>\n",
              "      <td>1.000000</td>\n",
              "    </tr>\n",
              "    <tr>\n",
              "      <th rowspan=\"2\" valign=\"top\">Prof-school</th>\n",
              "      <th>&lt;=50K</th>\n",
              "      <td>153</td>\n",
              "      <td>576</td>\n",
              "      <td>0.017690</td>\n",
              "      <td>0.759183</td>\n",
              "      <td>0.006190</td>\n",
              "      <td>0.265625</td>\n",
              "    </tr>\n",
              "    <tr>\n",
              "      <th>&gt;50K</th>\n",
              "      <td>423</td>\n",
              "      <td>576</td>\n",
              "      <td>0.017690</td>\n",
              "      <td>0.240817</td>\n",
              "      <td>0.053947</td>\n",
              "      <td>0.734375</td>\n",
              "    </tr>\n",
              "    <tr>\n",
              "      <th rowspan=\"2\" valign=\"top\">Some-college</th>\n",
              "      <th>&lt;=50K</th>\n",
              "      <td>5904</td>\n",
              "      <td>7291</td>\n",
              "      <td>0.223925</td>\n",
              "      <td>0.759183</td>\n",
              "      <td>0.238845</td>\n",
              "      <td>0.809765</td>\n",
              "    </tr>\n",
              "    <tr>\n",
              "      <th>&gt;50K</th>\n",
              "      <td>1387</td>\n",
              "      <td>7291</td>\n",
              "      <td>0.223925</td>\n",
              "      <td>0.240817</td>\n",
              "      <td>0.176891</td>\n",
              "      <td>0.190235</td>\n",
              "    </tr>\n",
              "  </tbody>\n",
              "</table>\n",
              "</div>"
            ],
            "text/plain": [
              "                      <=50K  ...  P(> или < 50K | класс образования)\n",
              " Bachelors     <=50K         ...                                    \n",
              " 10th          <=50K    871  ...                            0.933548\n",
              "               >50K      62  ...                            0.066452\n",
              " 11th          <=50K   1115  ...                            0.948936\n",
              "               >50K      60  ...                            0.051064\n",
              " 12th          <=50K    400  ...                            0.923788\n",
              "               >50K      33  ...                            0.076212\n",
              " 1st-4th       <=50K    162  ...                            0.964286\n",
              "               >50K       6  ...                            0.035714\n",
              " 5th-6th       <=50K    317  ...                            0.951952\n",
              "               >50K      16  ...                            0.048048\n",
              " 7th-8th       <=50K    606  ...                            0.938080\n",
              "               >50K      40  ...                            0.061920\n",
              " 9th           <=50K    487  ...                            0.947471\n",
              "               >50K      27  ...                            0.052529\n",
              " Assoc-acdm    <=50K    802  ...                            0.751640\n",
              "               >50K     265  ...                            0.248360\n",
              " Assoc-voc     <=50K   1021  ...                            0.738784\n",
              "               >50K     361  ...                            0.261216\n",
              " Bachelors     <=50K   3133  ...                            0.585170\n",
              "               >50K    2221  ...                            0.414830\n",
              " Doctorate     <=50K    107  ...                            0.259080\n",
              "               >50K     306  ...                            0.740920\n",
              " HS-grad       <=50K   8826  ...                            0.840491\n",
              "               >50K    1675  ...                            0.159509\n",
              " Masters       <=50K    764  ...                            0.443413\n",
              "               >50K     959  ...                            0.556587\n",
              " Preschool     <=50K     51  ...                            1.000000\n",
              " Prof-school   <=50K    153  ...                            0.265625\n",
              "               >50K     423  ...                            0.734375\n",
              " Some-college  <=50K   5904  ...                            0.809765\n",
              "               >50K    1387  ...                            0.190235\n",
              "\n",
              "[31 rows x 6 columns]"
            ]
          },
          "metadata": {
            "tags": []
          },
          "execution_count": 14
        }
      ]
    },
    {
      "cell_type": "markdown",
      "metadata": {
        "id": "LZ7sRnJx-Rtq"
      },
      "source": [
        "Из таблицы видно, что вероятность получать более 50 тыс $ в год растет с образованием. См. вероятности >50K у бакалавров, мастеров и докторов (0.414830, 0.556587, 0.740920)"
      ]
    },
    {
      "cell_type": "markdown",
      "metadata": {
        "id": "DR2hJaeT_FNj"
      },
      "source": [
        "# Задача 2 (2б)"
      ]
    },
    {
      "cell_type": "markdown",
      "metadata": {
        "id": "1RSOjWEb_JPH"
      },
      "source": [
        "Производитель спринклерных установок, используемых для противопожарной защиты офисных зданий, утверждает, что истинная средняя температура срабатывания системы составляет 130°. Выборка из n = 9 систем при тестировании дает среднюю температуру активации образца 131,08°F. Если распределение времени активации нормально при стандартном отклонении 1,5°F, противоречат ли данные утверждениям производителя на уровне значимости $\\alpha = 0.01$?\n",
        "\n",
        "В решении не использовать готовый функционал из stats. Следует расписать (тезисно основные шаги)"
      ]
    },
    {
      "cell_type": "code",
      "metadata": {
        "id": "Pi0zT-zP-Jxh",
        "colab": {
          "base_uri": "https://localhost:8080/"
        },
        "outputId": "9685ec4f-0d6b-443d-932b-dec2b2952df1"
      },
      "source": [
        "# Так как выборка у нас небольшая, соответственно будем использовать t-критерий Стьюдента по следующей формуле:\n",
        "t = (131.08-130)/(1.5/(9)**0.5)\n",
        "t\n"
      ],
      "execution_count": 1,
      "outputs": [
        {
          "output_type": "execute_result",
          "data": {
            "text/plain": [
              "2.160000000000025"
            ]
          },
          "metadata": {
            "tags": []
          },
          "execution_count": 1
        }
      ]
    },
    {
      "cell_type": "code",
      "metadata": {
        "id": "HzAnyi0uAqbx"
      },
      "source": [
        "# Число степеней свободы df равно 9-1 = 8\n",
        "# По таблице критических значений Т-Стьюдента найдем кртитические значения при уровне значимости альфа = 0,01, степеней свободы 8\n",
        "# По таблице значение равно 3,3554\n",
        "# То есть вычисленный нами показатель t=2,1600 меньше чем критическое значение (3,3554)\n",
        "#"
      ],
      "execution_count": null,
      "outputs": []
    },
    {
      "cell_type": "markdown",
      "metadata": {
        "id": "3gKxhqurBQXu"
      },
      "source": [
        "Замечание: неравенство в Ха подразумевает, что тест является двусторонним, поэтому значение P является результатом удвоения захваченной площади хвоста:\n",
        "\n",
        "P = 2[1 - Ф(z_stat)] = ..."
      ]
    },
    {
      "cell_type": "code",
      "metadata": {
        "id": "yyrSNjXRBeK7",
        "colab": {
          "base_uri": "https://localhost:8080/"
        },
        "outputId": "bb6da51e-fb04-4006-bf03-98c390a83490"
      },
      "source": [
        ""
      ],
      "execution_count": null,
      "outputs": [
        {
          "output_type": "execute_result",
          "data": {
            "text/plain": [
              "0.03079999999999994"
            ]
          },
          "metadata": {
            "tags": []
          },
          "execution_count": 12
        }
      ]
    },
    {
      "cell_type": "markdown",
      "metadata": {
        "id": "o-6Agr0hB2hg"
      },
      "source": [
        "Вывод:\n",
        "\n",
        "Утверждения производителя не противоречат полученным тестовм значениям\n"
      ]
    },
    {
      "cell_type": "markdown",
      "metadata": {
        "id": "LrbUhfS3Ca54"
      },
      "source": [
        "# Задача 3 (3б)"
      ]
    },
    {
      "cell_type": "markdown",
      "metadata": {
        "id": "iDa6mvS0Cc7m"
      },
      "source": [
        "Динамический конический пенетрометр (ДКП) используется для измерения сопротивления материала проникновению, так как конус вбивается в дорожное покрытие или основание. Предположим, что для конкретного применения необходимо, чтобы истинное среднее значение ДКП для определенного типа покрытия было меньше 30. Это покрытие не будет использоваться до тех пор, пока не будет убедительно доказано, что технические условия были соблюдены. Проверить соответствующие гипотезы, используя следующие данные: "
      ]
    },
    {
      "cell_type": "code",
      "metadata": {
        "id": "u0oPco72BpoT"
      },
      "source": [
        "arr = [14.1, 14.5, 15.5, 16.0, 16.0, 16.7, 16.9, 17.1, 17.5, 17.8, 17.8, 18.1, 18.2, 18.3, 18.3, 19.0, 19.2, 19.4, 20.0, 20.0, 20.8, 20.8, 21.0, 21.5, 23.5, 27.5, 27.5, 28.0, 28.3, 30.0, 30.0, 31.6, 31.7, 31.7, 32.5, 33.5, 33.9, 35.0, 35.0, 35.0, 36.7, 40.0, 40.0, 41.3, 41.7, 47.5, 50.0, 51.0, 51.8, 54.4, 55.0, 57.0]"
      ],
      "execution_count": 10,
      "outputs": []
    },
    {
      "cell_type": "markdown",
      "metadata": {
        "id": "Oc1g5pozF4r4"
      },
      "source": [
        "Визуализировать данные с помощью описательных статистик (см. вывод ниже) и построить .95 доверительные интервалы для $\\mu, \\sigma, Median$"
      ]
    },
    {
      "cell_type": "markdown",
      "metadata": {
        "id": "Dvy8GIThD0Ze"
      },
      "source": [
        "Ваши рассуждения: с помощью инструментов библиотеки seaborn визуально покажем описательные статистики для списка arr"
      ]
    },
    {
      "cell_type": "code",
      "metadata": {
        "id": "6f66i8dZC6ak",
        "colab": {
          "base_uri": "https://localhost:8080/",
          "height": 370
        },
        "outputId": "6e773064-9591-4065-d20b-a762073fdc34"
      },
      "source": [
        "f, (ax_box, ax_displot, ax_text) = plt.subplots(3, sharex=True, gridspec_kw={\"height_ratios\": (.15, .85, .65)})#разделяет окно на три части\n",
        "\n",
        "sns.boxplot(arr, ax=ax_box)# добавляем  в каждое окно по графику\n",
        "sns.distplot(arr, kde=True, hist=True, ax=ax_displot)\n",
        "plt.text(0.1, 0.8, 'mean='+str(np.mean(arr)))\n",
        "plt.text(0.1, 0.65, 'std='+str(np.std(arr)))\n",
        "plt.text(0.1, 0.5, 'var='+str(np.var(arr)))\n",
        "plt.text(0.1, 0.35, 'q1='+str(np.quantile(arr, .25)))\n",
        "plt.text(0.1, 0.2, 'median='+str(np.median(arr)))\n",
        "plt.text(0.1, 0.05, 'q3='+str(np.quantile(arr, .75)))\n",
        "  \n",
        "ax_box.set(xlabel='') #удаление оси х в боксплоте"
      ],
      "execution_count": 5,
      "outputs": [
        {
          "output_type": "stream",
          "text": [
            "/usr/local/lib/python3.7/dist-packages/seaborn/_decorators.py:43: FutureWarning: Pass the following variable as a keyword arg: x. From version 0.12, the only valid positional argument will be `data`, and passing other arguments without an explicit keyword will result in an error or misinterpretation.\n",
            "  FutureWarning\n",
            "/usr/local/lib/python3.7/dist-packages/seaborn/distributions.py:2557: FutureWarning: `distplot` is a deprecated function and will be removed in a future version. Please adapt your code to use either `displot` (a figure-level function with similar flexibility) or `histplot` (an axes-level function for histograms).\n",
            "  warnings.warn(msg, FutureWarning)\n"
          ],
          "name": "stderr"
        },
        {
          "output_type": "execute_result",
          "data": {
            "text/plain": [
              "[Text(0.5, 0, '')]"
            ]
          },
          "metadata": {
            "tags": []
          },
          "execution_count": 5
        },
        {
          "output_type": "display_data",
          "data": {
            "image/png": "[encoded data removed]",
            "text/plain": [
              "<Figure size 432x288 with 3 Axes>"
            ]
          },
          "metadata": {
            "tags": [],
            "needs_background": "light"
          }
        }
      ]
    },
    {
      "cell_type": "code",
      "metadata": {
        "id": "iha7NmW_Evu8",
        "colab": {
          "base_uri": "https://localhost:8080/"
        },
        "outputId": "f78f0ecf-f46a-460c-e48e-9a32e524fa80"
      },
      "source": [
        "# Доверительные интервалы для среднего \n",
        "#(при 0,95 доверительном интервале по таблице нормального распределения 1,96 стандартных отклонений)\n",
        "# вычисляются следующим образом\n",
        "arr_2 = [np.mean(arr)-1.96*np.std(arr)/(len(arr))**0.5, np.mean(arr)+1.96*np.std(arr)/(len(arr))**0.5]\n",
        "arr_2"
      ],
      "execution_count": 37,
      "outputs": [
        {
          "output_type": "execute_result",
          "data": {
            "text/plain": [
              "[25.460164984793664, 32.06291193828326]"
            ]
          },
          "metadata": {
            "tags": []
          },
          "execution_count": 37
        }
      ]
    },
    {
      "cell_type": "code",
      "metadata": {
        "colab": {
          "base_uri": "https://localhost:8080/"
        },
        "id": "D_8KNeXJUU5_",
        "outputId": "8a14dfd9-9592-4c1e-e2aa-f5dc879e5be3"
      },
      "source": [
        "# доверительные интервалы медианы\n",
        "#По таблице значений К определяем границы двустороннего доверительного интервала (доверие 0,95) при объеме выборки менее 100\n",
        "#K=19\n",
        "#В нашем списке 19-й и 20-й элемент равны ( то есть это границы нашего доверительного интервала для медианы)\n",
        "print (sorted(arr)[18], sorted(arr)[19])\n"
      ],
      "execution_count": 94,
      "outputs": [
        {
          "output_type": "stream",
          "text": [
            "20.0 20.0\n"
          ],
          "name": "stdout"
        }
      ]
    },
    {
      "cell_type": "code",
      "metadata": {
        "colab": {
          "base_uri": "https://localhost:8080/"
        },
        "id": "k4620bbUCrTx",
        "outputId": "16895598-ad34-48e8-95c2-4de87ec098e8"
      },
      "source": [
        "# проверим, насколько среднее значение выборки отличается от среднего значения к истинному значению генеральной совокупности\n",
        "# построим генеральную совокупность, к примеру, из 200 элементов (считаем что совокупность нормально распределена)\n",
        "\n",
        "arr_gen = []  \n",
        "\n",
        "for x in range(200):\n",
        "    sample = np.random.choice(a= arr, size=500)\n",
        "    arr_gen.append( sample.mean() )\n",
        "arr_gen_mean = np.array(point_estimates).mean()\n",
        "arr_gen_mean\n"
      ],
      "execution_count": 33,
      "outputs": [
        {
          "output_type": "execute_result",
          "data": {
            "text/plain": [
              "28.756684"
            ]
          },
          "metadata": {
            "tags": []
          },
          "execution_count": 33
        }
      ]
    },
    {
      "cell_type": "code",
      "metadata": {
        "colab": {
          "base_uri": "https://localhost:8080/"
        },
        "id": "V7O11qjYLKom",
        "outputId": "9ffcff8d-7316-479b-b705-2744f945e0af"
      },
      "source": [
        "# Теперь оценим отличие\n",
        "np.mean(arr)-arr_gen_mean"
      ],
      "execution_count": 34,
      "outputs": [
        {
          "output_type": "execute_result",
          "data": {
            "text/plain": [
              "0.004854461538460697"
            ]
          },
          "metadata": {
            "tags": []
          },
          "execution_count": 34
        }
      ]
    },
    {
      "cell_type": "code",
      "metadata": {
        "colab": {
          "base_uri": "https://localhost:8080/",
          "height": 404
        },
        "id": "0ic5IYukLXfB",
        "outputId": "9ec541b3-17d7-42de-8131-ed286eaed675"
      },
      "source": [
        "f, (ax_box, ax_displot, ax_interval) = plt.subplots(3, sharex=True, gridspec_kw={\"height_ratios\": (.15, .85, .15)})\n",
        "\n",
        "sns.boxplot(arr, ax=ax_box)\n",
        "sns.distplot(arr, kde=True, hist=True, ax=ax_displot)\n",
        "sns.boxplot(arr_2, ax=ax_interval)\n",
        "\n",
        "ax_box.set(xlabel='') #удаление оси х в боксплоте"
      ],
      "execution_count": 59,
      "outputs": [
        {
          "output_type": "stream",
          "text": [
            "/usr/local/lib/python3.7/dist-packages/seaborn/_decorators.py:43: FutureWarning: Pass the following variable as a keyword arg: x. From version 0.12, the only valid positional argument will be `data`, and passing other arguments without an explicit keyword will result in an error or misinterpretation.\n",
            "  FutureWarning\n",
            "/usr/local/lib/python3.7/dist-packages/seaborn/distributions.py:2557: FutureWarning: `distplot` is a deprecated function and will be removed in a future version. Please adapt your code to use either `displot` (a figure-level function with similar flexibility) or `histplot` (an axes-level function for histograms).\n",
            "  warnings.warn(msg, FutureWarning)\n",
            "/usr/local/lib/python3.7/dist-packages/seaborn/_decorators.py:43: FutureWarning: Pass the following variable as a keyword arg: x. From version 0.12, the only valid positional argument will be `data`, and passing other arguments without an explicit keyword will result in an error or misinterpretation.\n",
            "  FutureWarning\n"
          ],
          "name": "stderr"
        },
        {
          "output_type": "execute_result",
          "data": {
            "text/plain": [
              "[Text(0.5, 0, '')]"
            ]
          },
          "metadata": {
            "tags": []
          },
          "execution_count": 59
        },
        {
          "output_type": "display_data",
          "data": {
            "image/png": "[encoded data removed]",
            "text/plain": [
              "<Figure size 432x288 with 3 Axes>"
            ]
          },
          "metadata": {
            "tags": [],
            "needs_background": "light"
          }
        }
      ]
    },
    {
      "cell_type": "markdown",
      "metadata": {
        "id": "_jqjKg9yhzLp"
      },
      "source": [
        "\n",
        "Ваш вывод: учитывая то, что при установленном уровне доверия среднее значение выборки находится на достаточно близком расстоянии от нормального среднего значения, требуемое значение находится в пределах доверительного интервала можно сделать вывод что дорожное покрытие соответствует техническим условиям\n"
      ]
    },
    {
      "cell_type": "markdown",
      "metadata": {
        "id": "0l4oj2NNi3hu"
      },
      "source": [
        "# Задача 4 (2б)\n"
      ]
    },
    {
      "cell_type": "markdown",
      "metadata": {
        "id": "K6pjjPqHi9Tl"
      },
      "source": [
        "Обширный мониторинг компьютерной системы совместного использования времени показал, что время отклика на конкретную команду редактирования, как правило, распределяется со стандартным отклонением 25 миллисекунд. Была установлена новая операционная система, и мы хотим оценить истинное среднее время отклика $\\mu$ для новой среды. Если предположить, что время отклика все еще нормально распределено с $\\sigma = $ 25, то какой размер выборки необходим для того, чтобы получившийся 95% доверительный интервал имел ширину (максимум) 10?"
      ]
    },
    {
      "cell_type": "markdown",
      "metadata": {
        "id": "jKM6EJXxjcfR"
      },
      "source": [
        "Ваши рассуждения"
      ]
    },
    {
      "cell_type": "markdown",
      "metadata": {
        "id": "Fzd29IkdYIhT"
      },
      "source": [
        "Известно, что доверительным интервалом будет называется интервал, в который с заданной точностью будут попадаться наши наблюдения. Из формулы следует, что границы интервала равны среднему значению плюс минус погрешность измерения. То есть, ширина доверительного интервала соответствует двум погрешностям измерения. В нашем случае погрешность будет равна 10/2 = 5.\n",
        "Также известно, что погрешность изверения равна z стандартного нормального измерения, умноженное на квадратный корень из деления квадрата среднеквадратического отклонения (дисперсии) на количество наблюдений.\n",
        "E = z*(sigma**2/n)*1/2\n",
        "Если из этой формулы выведем количество наблюдений, то получим формулу:\n",
        "n=(z*sigma/E)**2\n",
        "Из условий  уровень доверия у нас 95% или 0,95, что по таблице нормального распределения соответствует z=1,96\n",
        "Ширина доверительного интервала равна двум погрешностям или равна 5\n",
        "Sigma = 25.\n",
        "Подставляем значения в формулу и получаем:    "
      ]
    },
    {
      "cell_type": "code",
      "metadata": {
        "colab": {
          "base_uri": "https://localhost:8080/"
        },
        "id": "SfYmqTk3WVNG",
        "outputId": "e11b8b2f-c4fd-4e07-920b-f7e794f6f955"
      },
      "source": [
        "a = (1.96*25/5)**2\n",
        "a"
      ],
      "execution_count": 64,
      "outputs": [
        {
          "output_type": "execute_result",
          "data": {
            "text/plain": [
              "96.04000000000002"
            ]
          },
          "metadata": {
            "tags": []
          },
          "execution_count": 64
        }
      ]
    },
    {
      "cell_type": "markdown",
      "metadata": {
        "id": "L3cfLgT4kNw8"
      },
      "source": [
        "Ваш вывод: для того, чтобы наши наблюдения \"ложились\" в доверительный интервал, равный 10, необходима выборка из 96 наблюдений."
      ]
    },
    {
      "cell_type": "markdown",
      "metadata": {
        "id": "eXzYQO8EmCKr"
      },
      "source": [
        "# Задача на бонусный балл"
      ]
    },
    {
      "cell_type": "markdown",
      "metadata": {
        "id": "rASFQmvjmI_g"
      },
      "source": [
        "Предположим мы сместили центр масс монеты таким образом, что выпадает она в 65% случаев решкой. Сколько подбрасываний нужно при заданном уровне значимости, чтобы определить, что она фальшивая? (ну т.е. не 50/50 вероятности орел/решка)"
      ]
    },
    {
      "cell_type": "markdown",
      "metadata": {
        "id": "GeRSOsVMnz5x"
      },
      "source": [
        "Ваши рассуждения"
      ]
    },
    {
      "cell_type": "code",
      "metadata": {
        "id": "71o7qmr0kCa5"
      },
      "source": [
        ""
      ],
      "execution_count": null,
      "outputs": []
    }
  ]
}