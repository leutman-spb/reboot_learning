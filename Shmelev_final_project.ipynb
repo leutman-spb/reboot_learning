{
 "cells": [
  {
   "cell_type": "markdown",
   "metadata": {},
   "source": [
    "# Многоклассовая классификация обращений клиентов на сайте banki.ru по брокерскому обслуживанию Сбербанка"
   ]
  },
  {
   "cell_type": "markdown",
   "metadata": {},
   "source": [
    "Причины выбора алгоримта:\n",
    "- производственная необходимость\n",
    "- отработка навыков обработки текста\n",
    "- практика использования методов ML\n",
    "\n",
    "Порядок работы:\n",
    "1. Получение реальных обращений с сайта banki.ru по всем кредитным организациям для целей обучения модели\n",
    "2. Подготовка и предобработка данных\n",
    "3. Токенизация и стемминг\n",
    "4. Токенизация и лемматизация\n",
    "5. Стемминг и лемматизация: что лучше? Выбор подхода в каждой из моделей\n",
    "    - Naive Bayes\n",
    "    - Linear Support Vector Machine\n",
    "    - Logistic Regression\n",
    "6. Получение реальных обращений клиентов, касающихся Сбербанка\n",
    "7. Классификация обращений выбранным подходом\n",
    "8. Выводы"
   ]
  },
  {
   "cell_type": "code",
   "execution_count": 1,
   "metadata": {},
   "outputs": [],
   "source": [
    "import pandas as pd\n",
    "import numpy as np\n",
    "import requests\n",
    "from bs4 import BeautifulSoup\n",
    "import ssl\n",
    "import time as t"
   ]
  },
  {
   "cell_type": "markdown",
   "metadata": {},
   "source": [
    "Загрузка жалоб клиентов по всем банкам с целью получения данных для обучения"
   ]
  },
  {
   "cell_type": "code",
   "execution_count": 2,
   "metadata": {},
   "outputs": [
    {
     "name": "stdout",
     "output_type": "stream",
     "text": [
      "1275\n"
     ]
    }
   ],
   "source": [
    "url = 'https://www.banki.ru/services/responses/list/product/investments/'\n",
    "r = requests.get(url)\n",
    "\n",
    "df_allbanks = pd.DataFrame(columns=['url жалобы', 'Заголовок', 'Текст', 'Время', 'Оценка'])\n",
    "\n",
    "soup = BeautifulSoup(r.text)\n",
    "\n",
    "pages = 50\n",
    "page_url= '?page='\n",
    "for page in range(1, pages + 2):\n",
    "    t.sleep(1)\n",
    "    for article in soup.findAll('article'):\n",
    "        try:\n",
    "            href = article.find('a', {'data-test': 'responses-header'}).get('href')\n",
    "            header = article.find('a', {'data-test': 'responses-header'}).text\n",
    "            text = article.find('div', {'data-test': 'responses-message'}).text.strip()\n",
    "            time = article.find('time', {'data-test': 'responses-datetime'}).text.strip()\n",
    "            \n",
    "            # optional\n",
    "            try:\n",
    "                rating = article.find('span', {'data-test': 'responses-rating-grade'}).text.strip()\n",
    "            except:\n",
    "                rating = None\n",
    "            row = [url[:21]+href[1:], header, text, time, rating]\n",
    "            df_allbanks.loc[len(df_allbanks)] = row\n",
    "        except:\n",
    "            pass\n",
    "    # Взятие следующей страницы\n",
    "    try:\n",
    "        if page <= pages:\n",
    "            r = requests.get(url + page_url + str(page))\n",
    "            soup = BeautifulSoup(r.text, features='lxml')\n",
    "    except:\n",
    "        pass\n",
    "print(len(df_allbanks))\n",
    "# Промежуточное сохранение\n",
    "df_allbanks.to_excel('Отзывы_все_банки.xlsx')"
   ]
  },
  {
   "cell_type": "markdown",
   "metadata": {},
   "source": [
    "Подготовка и предобработка данных"
   ]
  },
  {
   "cell_type": "code",
   "execution_count": 3,
   "metadata": {},
   "outputs": [
    {
     "data": {
      "text/html": [
       "<div>\n",
       "<style scoped>\n",
       "    .dataframe tbody tr th:only-of-type {\n",
       "        vertical-align: middle;\n",
       "    }\n",
       "\n",
       "    .dataframe tbody tr th {\n",
       "        vertical-align: top;\n",
       "    }\n",
       "\n",
       "    .dataframe thead th {\n",
       "        text-align: right;\n",
       "    }\n",
       "</style>\n",
       "<table border=\"1\" class=\"dataframe\">\n",
       "  <thead>\n",
       "    <tr style=\"text-align: right;\">\n",
       "      <th></th>\n",
       "      <th>url жалобы</th>\n",
       "      <th>Заголовок</th>\n",
       "      <th>Текст</th>\n",
       "      <th>Время</th>\n",
       "      <th>Оценка</th>\n",
       "      <th>Тематика</th>\n",
       "    </tr>\n",
       "  </thead>\n",
       "  <tbody>\n",
       "    <tr>\n",
       "      <th>0</th>\n",
       "      <td>https://www.banki.ru/services/responses/bank/r...</td>\n",
       "      <td>Отличный банк!\\n\\t\\t\\t\\t\\t\\t\\t\\t</td>\n",
       "      <td>Я давно сотрудничаю с этим банком. Специалисты...</td>\n",
       "      <td>15.05.2021 14:50</td>\n",
       "      <td>5.0</td>\n",
       "      <td>благодарность</td>\n",
       "    </tr>\n",
       "    <tr>\n",
       "      <th>1</th>\n",
       "      <td>https://www.banki.ru/services/responses/bank/r...</td>\n",
       "      <td>БУДЬТЕ ОЧЕНЬ БДИТЕЛЬНЫМИ  в этом банке!Не реко...</td>\n",
       "      <td>Придя в банк,я заняла очередь.Моим вопросом мо...</td>\n",
       "      <td>15.05.2021 14:44</td>\n",
       "      <td>2.0</td>\n",
       "      <td>плохое обслуживание</td>\n",
       "    </tr>\n",
       "    <tr>\n",
       "      <th>2</th>\n",
       "      <td>https://www.banki.ru/services/responses/bank/r...</td>\n",
       "      <td>Названивают без повода, не слушают вообще ниче...</td>\n",
       "      <td>Названивают мне с информацией о незнакомом мне...</td>\n",
       "      <td>15.05.2021 13:24</td>\n",
       "      <td>1.0</td>\n",
       "      <td>навязывание</td>\n",
       "    </tr>\n",
       "    <tr>\n",
       "      <th>3</th>\n",
       "      <td>https://www.banki.ru/services/responses/bank/r...</td>\n",
       "      <td>Благодарность\\n\\t\\t\\t\\t\\t\\t\\t\\t</td>\n",
       "      <td>Обращался в Банк Тинькофф по поводу акции \"При...</td>\n",
       "      <td>15.05.2021 10:00</td>\n",
       "      <td>5.0</td>\n",
       "      <td>благодарность</td>\n",
       "    </tr>\n",
       "    <tr>\n",
       "      <th>4</th>\n",
       "      <td>https://www.banki.ru/services/responses/bank/r...</td>\n",
       "      <td>Отвратительное отношение к клиентам\\n\\t\\t\\t\\t\\...</td>\n",
       "      <td>Обратился в банк т.к. появилось желания начать...</td>\n",
       "      <td>14.05.2021 23:23</td>\n",
       "      <td>1.0</td>\n",
       "      <td>плохое обслуживание</td>\n",
       "    </tr>\n",
       "    <tr>\n",
       "      <th>...</th>\n",
       "      <td>...</td>\n",
       "      <td>...</td>\n",
       "      <td>...</td>\n",
       "      <td>...</td>\n",
       "      <td>...</td>\n",
       "      <td>...</td>\n",
       "    </tr>\n",
       "    <tr>\n",
       "      <th>1149</th>\n",
       "      <td>https://www.banki.ru/services/responses/bank/r...</td>\n",
       "      <td>Самый удобный банк!\\n\\t\\t\\t\\t\\t\\t\\t\\t</td>\n",
       "      <td>Хотелось бы выразить благодарность банку и сот...</td>\n",
       "      <td>04.03.2021 14:19</td>\n",
       "      <td>5.0</td>\n",
       "      <td>благодарность</td>\n",
       "    </tr>\n",
       "    <tr>\n",
       "      <th>1150</th>\n",
       "      <td>https://www.banki.ru/services/responses/bank/r...</td>\n",
       "      <td>Открытие брокерского счета длилось почти месяц...</td>\n",
       "      <td>10.02 я подала заявку на открытие брокерского ...</td>\n",
       "      <td>04.03.2021 14:10</td>\n",
       "      <td>2.0</td>\n",
       "      <td>некачественная услуга</td>\n",
       "    </tr>\n",
       "    <tr>\n",
       "      <th>1151</th>\n",
       "      <td>https://www.banki.ru/services/responses/bank/r...</td>\n",
       "      <td>Обманули и оформили без спроса брокерский счет...</td>\n",
       "      <td>Здравствуйте! Полное безобразие, сегодня была,...</td>\n",
       "      <td>04.03.2021 13:56</td>\n",
       "      <td>1.0</td>\n",
       "      <td>навязывание</td>\n",
       "    </tr>\n",
       "    <tr>\n",
       "      <th>1152</th>\n",
       "      <td>https://www.banki.ru/services/responses/bank/r...</td>\n",
       "      <td>По глупости перевел деньги обманщикам\\n\\t\\t\\t\\...</td>\n",
       "      <td>Недавно перевел небольшую сумму мошенникам с к...</td>\n",
       "      <td>04.03.2021 12:26</td>\n",
       "      <td>5.0</td>\n",
       "      <td>благодарность</td>\n",
       "    </tr>\n",
       "    <tr>\n",
       "      <th>1153</th>\n",
       "      <td>https://www.banki.ru/services/responses/bank/r...</td>\n",
       "      <td>Отзыв о работе сотрудников\\n\\t\\t\\t\\t\\t\\t\\t\\t</td>\n",
       "      <td>2 марта 2021г я пришла в ВТБ Банк для открытия...</td>\n",
       "      <td>04.03.2021 11:18</td>\n",
       "      <td>5.0</td>\n",
       "      <td>благодарность</td>\n",
       "    </tr>\n",
       "  </tbody>\n",
       "</table>\n",
       "<p>1154 rows × 6 columns</p>\n",
       "</div>"
      ],
      "text/plain": [
       "                                             url жалобы  \\\n",
       "0     https://www.banki.ru/services/responses/bank/r...   \n",
       "1     https://www.banki.ru/services/responses/bank/r...   \n",
       "2     https://www.banki.ru/services/responses/bank/r...   \n",
       "3     https://www.banki.ru/services/responses/bank/r...   \n",
       "4     https://www.banki.ru/services/responses/bank/r...   \n",
       "...                                                 ...   \n",
       "1149  https://www.banki.ru/services/responses/bank/r...   \n",
       "1150  https://www.banki.ru/services/responses/bank/r...   \n",
       "1151  https://www.banki.ru/services/responses/bank/r...   \n",
       "1152  https://www.banki.ru/services/responses/bank/r...   \n",
       "1153  https://www.banki.ru/services/responses/bank/r...   \n",
       "\n",
       "                                              Заголовок  \\\n",
       "0                      Отличный банк!\\n\\t\\t\\t\\t\\t\\t\\t\\t   \n",
       "1     БУДЬТЕ ОЧЕНЬ БДИТЕЛЬНЫМИ  в этом банке!Не реко...   \n",
       "2     Названивают без повода, не слушают вообще ниче...   \n",
       "3                       Благодарность\\n\\t\\t\\t\\t\\t\\t\\t\\t   \n",
       "4     Отвратительное отношение к клиентам\\n\\t\\t\\t\\t\\...   \n",
       "...                                                 ...   \n",
       "1149              Самый удобный банк!\\n\\t\\t\\t\\t\\t\\t\\t\\t   \n",
       "1150  Открытие брокерского счета длилось почти месяц...   \n",
       "1151  Обманули и оформили без спроса брокерский счет...   \n",
       "1152  По глупости перевел деньги обманщикам\\n\\t\\t\\t\\...   \n",
       "1153       Отзыв о работе сотрудников\\n\\t\\t\\t\\t\\t\\t\\t\\t   \n",
       "\n",
       "                                                  Текст             Время  \\\n",
       "0     Я давно сотрудничаю с этим банком. Специалисты...  15.05.2021 14:50   \n",
       "1     Придя в банк,я заняла очередь.Моим вопросом мо...  15.05.2021 14:44   \n",
       "2     Названивают мне с информацией о незнакомом мне...  15.05.2021 13:24   \n",
       "3     Обращался в Банк Тинькофф по поводу акции \"При...  15.05.2021 10:00   \n",
       "4     Обратился в банк т.к. появилось желания начать...  14.05.2021 23:23   \n",
       "...                                                 ...               ...   \n",
       "1149  Хотелось бы выразить благодарность банку и сот...  04.03.2021 14:19   \n",
       "1150  10.02 я подала заявку на открытие брокерского ...  04.03.2021 14:10   \n",
       "1151  Здравствуйте! Полное безобразие, сегодня была,...  04.03.2021 13:56   \n",
       "1152  Недавно перевел небольшую сумму мошенникам с к...  04.03.2021 12:26   \n",
       "1153  2 марта 2021г я пришла в ВТБ Банк для открытия...  04.03.2021 11:18   \n",
       "\n",
       "      Оценка               Тематика  \n",
       "0        5.0          благодарность  \n",
       "1        2.0    плохое обслуживание  \n",
       "2        1.0            навязывание  \n",
       "3        5.0          благодарность  \n",
       "4        1.0    плохое обслуживание  \n",
       "...      ...                    ...  \n",
       "1149     5.0          благодарность  \n",
       "1150     2.0  некачественная услуга  \n",
       "1151     1.0            навязывание  \n",
       "1152     5.0          благодарность  \n",
       "1153     5.0          благодарность  \n",
       "\n",
       "[1154 rows x 6 columns]"
      ]
     },
     "execution_count": 3,
     "metadata": {},
     "output_type": "execute_result"
    }
   ],
   "source": [
    "df_train=pd.read_excel('Отзывы_все_банки_разметка.xlsx')\n",
    "df_train.drop(['Unnamed: 0'], axis=1, inplace=True)\n",
    "#df_train=df_allbanks\n",
    "df_train"
   ]
  },
  {
   "cell_type": "code",
   "execution_count": 4,
   "metadata": {},
   "outputs": [],
   "source": [
    "df_train['Заг_и_текст']=df_train['Заголовок']+df_train['Текст']"
   ]
  },
  {
   "cell_type": "code",
   "execution_count": 5,
   "metadata": {},
   "outputs": [],
   "source": [
    "import string\n",
    "def remove_punctuation(text):\n",
    "    return \"\".join([ch if ch not in string.punctuation else ' ' for ch in text])\n",
    "\n",
    "def remove_numbers(text):\n",
    "    return ''.join([i if not i.isdigit() else ' ' for i in text])\n",
    "\n",
    "import re\n",
    "def remove_multiple_spaces(text):\n",
    "    return re.sub(r'\\s+', ' ', text, flags=re.I)"
   ]
  },
  {
   "cell_type": "code",
   "execution_count": 6,
   "metadata": {},
   "outputs": [
    {
     "data": {
      "text/html": [
       "<div>\n",
       "<style scoped>\n",
       "    .dataframe tbody tr th:only-of-type {\n",
       "        vertical-align: middle;\n",
       "    }\n",
       "\n",
       "    .dataframe tbody tr th {\n",
       "        vertical-align: top;\n",
       "    }\n",
       "\n",
       "    .dataframe thead th {\n",
       "        text-align: right;\n",
       "    }\n",
       "</style>\n",
       "<table border=\"1\" class=\"dataframe\">\n",
       "  <thead>\n",
       "    <tr style=\"text-align: right;\">\n",
       "      <th></th>\n",
       "      <th>url жалобы</th>\n",
       "      <th>Заголовок</th>\n",
       "      <th>Текст</th>\n",
       "      <th>Время</th>\n",
       "      <th>Оценка</th>\n",
       "      <th>Тематика</th>\n",
       "      <th>Заг_и_текст</th>\n",
       "      <th>Пред_текст</th>\n",
       "    </tr>\n",
       "  </thead>\n",
       "  <tbody>\n",
       "    <tr>\n",
       "      <th>0</th>\n",
       "      <td>https://www.banki.ru/services/responses/bank/r...</td>\n",
       "      <td>Отличный банк!\\n\\t\\t\\t\\t\\t\\t\\t\\t</td>\n",
       "      <td>Я давно сотрудничаю с этим банком. Специалисты...</td>\n",
       "      <td>15.05.2021 14:50</td>\n",
       "      <td>5.0</td>\n",
       "      <td>благодарность</td>\n",
       "      <td>Отличный банк!\\n\\t\\t\\t\\t\\t\\t\\t\\tЯ давно сотруд...</td>\n",
       "      <td>отличный банк я давно сотрудничаю с этим банко...</td>\n",
       "    </tr>\n",
       "    <tr>\n",
       "      <th>1</th>\n",
       "      <td>https://www.banki.ru/services/responses/bank/r...</td>\n",
       "      <td>БУДЬТЕ ОЧЕНЬ БДИТЕЛЬНЫМИ  в этом банке!Не реко...</td>\n",
       "      <td>Придя в банк,я заняла очередь.Моим вопросом мо...</td>\n",
       "      <td>15.05.2021 14:44</td>\n",
       "      <td>2.0</td>\n",
       "      <td>плохое обслуживание</td>\n",
       "      <td>БУДЬТЕ ОЧЕНЬ БДИТЕЛЬНЫМИ  в этом банке!Не реко...</td>\n",
       "      <td>будьте очень бдительными в этом банке не реком...</td>\n",
       "    </tr>\n",
       "    <tr>\n",
       "      <th>2</th>\n",
       "      <td>https://www.banki.ru/services/responses/bank/r...</td>\n",
       "      <td>Названивают без повода, не слушают вообще ниче...</td>\n",
       "      <td>Названивают мне с информацией о незнакомом мне...</td>\n",
       "      <td>15.05.2021 13:24</td>\n",
       "      <td>1.0</td>\n",
       "      <td>навязывание</td>\n",
       "      <td>Названивают без повода, не слушают вообще ниче...</td>\n",
       "      <td>названивают без повода не слушают вообще ничег...</td>\n",
       "    </tr>\n",
       "    <tr>\n",
       "      <th>3</th>\n",
       "      <td>https://www.banki.ru/services/responses/bank/r...</td>\n",
       "      <td>Благодарность\\n\\t\\t\\t\\t\\t\\t\\t\\t</td>\n",
       "      <td>Обращался в Банк Тинькофф по поводу акции \"При...</td>\n",
       "      <td>15.05.2021 10:00</td>\n",
       "      <td>5.0</td>\n",
       "      <td>благодарность</td>\n",
       "      <td>Благодарность\\n\\t\\t\\t\\t\\t\\t\\t\\tОбращался в Бан...</td>\n",
       "      <td>благодарность обращался в банк тинькофф по пов...</td>\n",
       "    </tr>\n",
       "    <tr>\n",
       "      <th>4</th>\n",
       "      <td>https://www.banki.ru/services/responses/bank/r...</td>\n",
       "      <td>Отвратительное отношение к клиентам\\n\\t\\t\\t\\t\\...</td>\n",
       "      <td>Обратился в банк т.к. появилось желания начать...</td>\n",
       "      <td>14.05.2021 23:23</td>\n",
       "      <td>1.0</td>\n",
       "      <td>плохое обслуживание</td>\n",
       "      <td>Отвратительное отношение к клиентам\\n\\t\\t\\t\\t\\...</td>\n",
       "      <td>отвратительное отношение к клиентам обратился ...</td>\n",
       "    </tr>\n",
       "  </tbody>\n",
       "</table>\n",
       "</div>"
      ],
      "text/plain": [
       "                                          url жалобы  \\\n",
       "0  https://www.banki.ru/services/responses/bank/r...   \n",
       "1  https://www.banki.ru/services/responses/bank/r...   \n",
       "2  https://www.banki.ru/services/responses/bank/r...   \n",
       "3  https://www.banki.ru/services/responses/bank/r...   \n",
       "4  https://www.banki.ru/services/responses/bank/r...   \n",
       "\n",
       "                                           Заголовок  \\\n",
       "0                   Отличный банк!\\n\\t\\t\\t\\t\\t\\t\\t\\t   \n",
       "1  БУДЬТЕ ОЧЕНЬ БДИТЕЛЬНЫМИ  в этом банке!Не реко...   \n",
       "2  Названивают без повода, не слушают вообще ниче...   \n",
       "3                    Благодарность\\n\\t\\t\\t\\t\\t\\t\\t\\t   \n",
       "4  Отвратительное отношение к клиентам\\n\\t\\t\\t\\t\\...   \n",
       "\n",
       "                                               Текст             Время  \\\n",
       "0  Я давно сотрудничаю с этим банком. Специалисты...  15.05.2021 14:50   \n",
       "1  Придя в банк,я заняла очередь.Моим вопросом мо...  15.05.2021 14:44   \n",
       "2  Названивают мне с информацией о незнакомом мне...  15.05.2021 13:24   \n",
       "3  Обращался в Банк Тинькофф по поводу акции \"При...  15.05.2021 10:00   \n",
       "4  Обратился в банк т.к. появилось желания начать...  14.05.2021 23:23   \n",
       "\n",
       "   Оценка             Тематика  \\\n",
       "0     5.0        благодарность   \n",
       "1     2.0  плохое обслуживание   \n",
       "2     1.0          навязывание   \n",
       "3     5.0        благодарность   \n",
       "4     1.0  плохое обслуживание   \n",
       "\n",
       "                                         Заг_и_текст  \\\n",
       "0  Отличный банк!\\n\\t\\t\\t\\t\\t\\t\\t\\tЯ давно сотруд...   \n",
       "1  БУДЬТЕ ОЧЕНЬ БДИТЕЛЬНЫМИ  в этом банке!Не реко...   \n",
       "2  Названивают без повода, не слушают вообще ниче...   \n",
       "3  Благодарность\\n\\t\\t\\t\\t\\t\\t\\t\\tОбращался в Бан...   \n",
       "4  Отвратительное отношение к клиентам\\n\\t\\t\\t\\t\\...   \n",
       "\n",
       "                                          Пред_текст  \n",
       "0  отличный банк я давно сотрудничаю с этим банко...  \n",
       "1  будьте очень бдительными в этом банке не реком...  \n",
       "2  названивают без повода не слушают вообще ничег...  \n",
       "3  благодарность обращался в банк тинькофф по пов...  \n",
       "4  отвратительное отношение к клиентам обратился ...  "
      ]
     },
     "execution_count": 6,
     "metadata": {},
     "output_type": "execute_result"
    }
   ],
   "source": [
    "prep_text = [remove_multiple_spaces(remove_numbers(remove_punctuation(text.lower()))) for text in df_train['Заг_и_текст']]\n",
    "\n",
    "df_train['Пред_текст'] = prep_text\n",
    "df_train.head()"
   ]
  },
  {
   "cell_type": "code",
   "execution_count": 7,
   "metadata": {},
   "outputs": [],
   "source": [
    "from nltk.stem import *\n",
    "from nltk.corpus import stopwords\n",
    "from pymystem3 import Mystem\n",
    "from string import punctuation\n",
    "\n",
    "mystem = Mystem() \n",
    "\n",
    "russian_stopwords = stopwords.words(\"russian\")\n",
    "russian_stopwords.extend(['…', '«', '»', '...', '\\n', '\\t', 'весь', 'отзыв'])\n",
    "def lemmatize_text(text):\n",
    "    tokens = mystem.lemmatize(text.lower())\n",
    "    tokens = [token for token in tokens if token not in russian_stopwords and token != \" \"]\n",
    "    text = \" \".join(tokens)\n",
    "    return text"
   ]
  },
  {
   "cell_type": "markdown",
   "metadata": {},
   "source": [
    "Токенизация"
   ]
  },
  {
   "cell_type": "markdown",
   "metadata": {},
   "source": [
    "Стемминг"
   ]
  },
  {
   "cell_type": "code",
   "execution_count": 8,
   "metadata": {},
   "outputs": [],
   "source": [
    "from nltk.stem.snowball import SnowballStemmer \n",
    "stemmer = SnowballStemmer(\"russian\")\n",
    "\n",
    "from nltk import word_tokenize"
   ]
  },
  {
   "cell_type": "code",
   "execution_count": 9,
   "metadata": {},
   "outputs": [
    {
     "name": "stdout",
     "output_type": "stream",
     "text": [
      "Wall time: 1.7 s\n"
     ]
    },
    {
     "data": {
      "text/html": [
       "<div>\n",
       "<style scoped>\n",
       "    .dataframe tbody tr th:only-of-type {\n",
       "        vertical-align: middle;\n",
       "    }\n",
       "\n",
       "    .dataframe tbody tr th {\n",
       "        vertical-align: top;\n",
       "    }\n",
       "\n",
       "    .dataframe thead th {\n",
       "        text-align: right;\n",
       "    }\n",
       "</style>\n",
       "<table border=\"1\" class=\"dataframe\">\n",
       "  <thead>\n",
       "    <tr style=\"text-align: right;\">\n",
       "      <th></th>\n",
       "      <th>url жалобы</th>\n",
       "      <th>Заголовок</th>\n",
       "      <th>Текст</th>\n",
       "      <th>Время</th>\n",
       "      <th>Оценка</th>\n",
       "      <th>Тематика</th>\n",
       "      <th>Заг_и_текст</th>\n",
       "      <th>Пред_текст</th>\n",
       "      <th>Стем_текст</th>\n",
       "    </tr>\n",
       "  </thead>\n",
       "  <tbody>\n",
       "    <tr>\n",
       "      <th>0</th>\n",
       "      <td>https://www.banki.ru/services/responses/bank/r...</td>\n",
       "      <td>Отличный банк!\\n\\t\\t\\t\\t\\t\\t\\t\\t</td>\n",
       "      <td>Я давно сотрудничаю с этим банком. Специалисты...</td>\n",
       "      <td>15.05.2021 14:50</td>\n",
       "      <td>5.0</td>\n",
       "      <td>благодарность</td>\n",
       "      <td>Отличный банк!\\n\\t\\t\\t\\t\\t\\t\\t\\tЯ давно сотруд...</td>\n",
       "      <td>отличный банк я давно сотрудничаю с этим банко...</td>\n",
       "      <td>отличн банк давн сотруднича эт банк специалист...</td>\n",
       "    </tr>\n",
       "    <tr>\n",
       "      <th>1</th>\n",
       "      <td>https://www.banki.ru/services/responses/bank/r...</td>\n",
       "      <td>БУДЬТЕ ОЧЕНЬ БДИТЕЛЬНЫМИ  в этом банке!Не реко...</td>\n",
       "      <td>Придя в банк,я заняла очередь.Моим вопросом мо...</td>\n",
       "      <td>15.05.2021 14:44</td>\n",
       "      <td>2.0</td>\n",
       "      <td>плохое обслуживание</td>\n",
       "      <td>БУДЬТЕ ОЧЕНЬ БДИТЕЛЬНЫМИ  в этом банке!Не реко...</td>\n",
       "      <td>будьте очень бдительными в этом банке не реком...</td>\n",
       "      <td>будьт очен бдительн банк рекоменд прид банк за...</td>\n",
       "    </tr>\n",
       "    <tr>\n",
       "      <th>2</th>\n",
       "      <td>https://www.banki.ru/services/responses/bank/r...</td>\n",
       "      <td>Названивают без повода, не слушают вообще ниче...</td>\n",
       "      <td>Названивают мне с информацией о незнакомом мне...</td>\n",
       "      <td>15.05.2021 13:24</td>\n",
       "      <td>1.0</td>\n",
       "      <td>навязывание</td>\n",
       "      <td>Названивают без повода, не слушают вообще ниче...</td>\n",
       "      <td>названивают без повода не слушают вообще ничег...</td>\n",
       "      <td>названива повод слуша вообщ хам телефон исполь...</td>\n",
       "    </tr>\n",
       "    <tr>\n",
       "      <th>3</th>\n",
       "      <td>https://www.banki.ru/services/responses/bank/r...</td>\n",
       "      <td>Благодарность\\n\\t\\t\\t\\t\\t\\t\\t\\t</td>\n",
       "      <td>Обращался в Банк Тинькофф по поводу акции \"При...</td>\n",
       "      <td>15.05.2021 10:00</td>\n",
       "      <td>5.0</td>\n",
       "      <td>благодарность</td>\n",
       "      <td>Благодарность\\n\\t\\t\\t\\t\\t\\t\\t\\tОбращался в Бан...</td>\n",
       "      <td>благодарность обращался в банк тинькофф по пов...</td>\n",
       "      <td>благодарн обраща банк тинькофф повод акц приве...</td>\n",
       "    </tr>\n",
       "    <tr>\n",
       "      <th>4</th>\n",
       "      <td>https://www.banki.ru/services/responses/bank/r...</td>\n",
       "      <td>Отвратительное отношение к клиентам\\n\\t\\t\\t\\t\\...</td>\n",
       "      <td>Обратился в банк т.к. появилось желания начать...</td>\n",
       "      <td>14.05.2021 23:23</td>\n",
       "      <td>1.0</td>\n",
       "      <td>плохое обслуживание</td>\n",
       "      <td>Отвратительное отношение к клиентам\\n\\t\\t\\t\\t\\...</td>\n",
       "      <td>отвратительное отношение к клиентам обратился ...</td>\n",
       "      <td>отвратительн отношен клиент обрат банк т появ ...</td>\n",
       "    </tr>\n",
       "  </tbody>\n",
       "</table>\n",
       "</div>"
      ],
      "text/plain": [
       "                                          url жалобы  \\\n",
       "0  https://www.banki.ru/services/responses/bank/r...   \n",
       "1  https://www.banki.ru/services/responses/bank/r...   \n",
       "2  https://www.banki.ru/services/responses/bank/r...   \n",
       "3  https://www.banki.ru/services/responses/bank/r...   \n",
       "4  https://www.banki.ru/services/responses/bank/r...   \n",
       "\n",
       "                                           Заголовок  \\\n",
       "0                   Отличный банк!\\n\\t\\t\\t\\t\\t\\t\\t\\t   \n",
       "1  БУДЬТЕ ОЧЕНЬ БДИТЕЛЬНЫМИ  в этом банке!Не реко...   \n",
       "2  Названивают без повода, не слушают вообще ниче...   \n",
       "3                    Благодарность\\n\\t\\t\\t\\t\\t\\t\\t\\t   \n",
       "4  Отвратительное отношение к клиентам\\n\\t\\t\\t\\t\\...   \n",
       "\n",
       "                                               Текст             Время  \\\n",
       "0  Я давно сотрудничаю с этим банком. Специалисты...  15.05.2021 14:50   \n",
       "1  Придя в банк,я заняла очередь.Моим вопросом мо...  15.05.2021 14:44   \n",
       "2  Названивают мне с информацией о незнакомом мне...  15.05.2021 13:24   \n",
       "3  Обращался в Банк Тинькофф по поводу акции \"При...  15.05.2021 10:00   \n",
       "4  Обратился в банк т.к. появилось желания начать...  14.05.2021 23:23   \n",
       "\n",
       "   Оценка             Тематика  \\\n",
       "0     5.0        благодарность   \n",
       "1     2.0  плохое обслуживание   \n",
       "2     1.0          навязывание   \n",
       "3     5.0        благодарность   \n",
       "4     1.0  плохое обслуживание   \n",
       "\n",
       "                                         Заг_и_текст  \\\n",
       "0  Отличный банк!\\n\\t\\t\\t\\t\\t\\t\\t\\tЯ давно сотруд...   \n",
       "1  БУДЬТЕ ОЧЕНЬ БДИТЕЛЬНЫМИ  в этом банке!Не реко...   \n",
       "2  Названивают без повода, не слушают вообще ниче...   \n",
       "3  Благодарность\\n\\t\\t\\t\\t\\t\\t\\t\\tОбращался в Бан...   \n",
       "4  Отвратительное отношение к клиентам\\n\\t\\t\\t\\t\\...   \n",
       "\n",
       "                                          Пред_текст  \\\n",
       "0  отличный банк я давно сотрудничаю с этим банко...   \n",
       "1  будьте очень бдительными в этом банке не реком...   \n",
       "2  названивают без повода не слушают вообще ничег...   \n",
       "3  благодарность обращался в банк тинькофф по пов...   \n",
       "4  отвратительное отношение к клиентам обратился ...   \n",
       "\n",
       "                                          Стем_текст  \n",
       "0  отличн банк давн сотруднича эт банк специалист...  \n",
       "1  будьт очен бдительн банк рекоменд прид банк за...  \n",
       "2  названива повод слуша вообщ хам телефон исполь...  \n",
       "3  благодарн обраща банк тинькофф повод акц приве...  \n",
       "4  отвратительн отношен клиент обрат банк т появ ...  "
      ]
     },
     "execution_count": 9,
     "metadata": {},
     "output_type": "execute_result"
    }
   ],
   "source": [
    "%%time\n",
    "stemmed_texts_list = []\n",
    "for text in df_train['Пред_текст']:\n",
    "    tokens = word_tokenize(text)    \n",
    "    stemmed_tokens = [stemmer.stem(token) for token in tokens if token not in russian_stopwords]\n",
    "    text = \" \".join(stemmed_tokens)\n",
    "    stemmed_texts_list.append(text)\n",
    "\n",
    "df_train['Стем_текст'] = stemmed_texts_list\n",
    "\n",
    "df_train.head()"
   ]
  },
  {
   "cell_type": "markdown",
   "metadata": {},
   "source": [
    "Лемматизация"
   ]
  },
  {
   "cell_type": "code",
   "execution_count": 10,
   "metadata": {
    "scrolled": false
   },
   "outputs": [
    {
     "name": "stdout",
     "output_type": "stream",
     "text": [
      "Wall time: 25min 54s\n"
     ]
    },
    {
     "data": {
      "text/html": [
       "<div>\n",
       "<style scoped>\n",
       "    .dataframe tbody tr th:only-of-type {\n",
       "        vertical-align: middle;\n",
       "    }\n",
       "\n",
       "    .dataframe tbody tr th {\n",
       "        vertical-align: top;\n",
       "    }\n",
       "\n",
       "    .dataframe thead th {\n",
       "        text-align: right;\n",
       "    }\n",
       "</style>\n",
       "<table border=\"1\" class=\"dataframe\">\n",
       "  <thead>\n",
       "    <tr style=\"text-align: right;\">\n",
       "      <th></th>\n",
       "      <th>url жалобы</th>\n",
       "      <th>Заголовок</th>\n",
       "      <th>Текст</th>\n",
       "      <th>Время</th>\n",
       "      <th>Оценка</th>\n",
       "      <th>Тематика</th>\n",
       "      <th>Заг_и_текст</th>\n",
       "      <th>Пред_текст</th>\n",
       "      <th>Стем_текст</th>\n",
       "      <th>Лемм_текст</th>\n",
       "    </tr>\n",
       "  </thead>\n",
       "  <tbody>\n",
       "    <tr>\n",
       "      <th>0</th>\n",
       "      <td>https://www.banki.ru/services/responses/bank/r...</td>\n",
       "      <td>Отличный банк!\\n\\t\\t\\t\\t\\t\\t\\t\\t</td>\n",
       "      <td>Я давно сотрудничаю с этим банком. Специалисты...</td>\n",
       "      <td>15.05.2021 14:50</td>\n",
       "      <td>5.0</td>\n",
       "      <td>благодарность</td>\n",
       "      <td>Отличный банк!\\n\\t\\t\\t\\t\\t\\t\\t\\tЯ давно сотруд...</td>\n",
       "      <td>отличный банк я давно сотрудничаю с этим банко...</td>\n",
       "      <td>отличн банк давн сотруднича эт банк специалист...</td>\n",
       "      <td>отличный банк давно сотрудничать банк специали...</td>\n",
       "    </tr>\n",
       "    <tr>\n",
       "      <th>1</th>\n",
       "      <td>https://www.banki.ru/services/responses/bank/r...</td>\n",
       "      <td>БУДЬТЕ ОЧЕНЬ БДИТЕЛЬНЫМИ  в этом банке!Не реко...</td>\n",
       "      <td>Придя в банк,я заняла очередь.Моим вопросом мо...</td>\n",
       "      <td>15.05.2021 14:44</td>\n",
       "      <td>2.0</td>\n",
       "      <td>плохое обслуживание</td>\n",
       "      <td>БУДЬТЕ ОЧЕНЬ БДИТЕЛЬНЫМИ  в этом банке!Не реко...</td>\n",
       "      <td>будьте очень бдительными в этом банке не реком...</td>\n",
       "      <td>будьт очен бдительн банк рекоменд прид банк за...</td>\n",
       "      <td>очень бдительный банк рекомендовать прийти бан...</td>\n",
       "    </tr>\n",
       "    <tr>\n",
       "      <th>2</th>\n",
       "      <td>https://www.banki.ru/services/responses/bank/r...</td>\n",
       "      <td>Названивают без повода, не слушают вообще ниче...</td>\n",
       "      <td>Названивают мне с информацией о незнакомом мне...</td>\n",
       "      <td>15.05.2021 13:24</td>\n",
       "      <td>1.0</td>\n",
       "      <td>навязывание</td>\n",
       "      <td>Названивают без повода, не слушают вообще ниче...</td>\n",
       "      <td>названивают без повода не слушают вообще ничег...</td>\n",
       "      <td>названива повод слуша вообщ хам телефон исполь...</td>\n",
       "      <td>названивать повод слушать вообще ничто хамить ...</td>\n",
       "    </tr>\n",
       "    <tr>\n",
       "      <th>3</th>\n",
       "      <td>https://www.banki.ru/services/responses/bank/r...</td>\n",
       "      <td>Благодарность\\n\\t\\t\\t\\t\\t\\t\\t\\t</td>\n",
       "      <td>Обращался в Банк Тинькофф по поводу акции \"При...</td>\n",
       "      <td>15.05.2021 10:00</td>\n",
       "      <td>5.0</td>\n",
       "      <td>благодарность</td>\n",
       "      <td>Благодарность\\n\\t\\t\\t\\t\\t\\t\\t\\tОбращался в Бан...</td>\n",
       "      <td>благодарность обращался в банк тинькофф по пов...</td>\n",
       "      <td>благодарн обраща банк тинькофф повод акц приве...</td>\n",
       "      <td>благодарность обращаться банк тинькофф повод а...</td>\n",
       "    </tr>\n",
       "    <tr>\n",
       "      <th>4</th>\n",
       "      <td>https://www.banki.ru/services/responses/bank/r...</td>\n",
       "      <td>Отвратительное отношение к клиентам\\n\\t\\t\\t\\t\\...</td>\n",
       "      <td>Обратился в банк т.к. появилось желания начать...</td>\n",
       "      <td>14.05.2021 23:23</td>\n",
       "      <td>1.0</td>\n",
       "      <td>плохое обслуживание</td>\n",
       "      <td>Отвратительное отношение к клиентам\\n\\t\\t\\t\\t\\...</td>\n",
       "      <td>отвратительное отношение к клиентам обратился ...</td>\n",
       "      <td>отвратительн отношен клиент обрат банк т появ ...</td>\n",
       "      <td>отвратительный отношение клиент обращаться бан...</td>\n",
       "    </tr>\n",
       "  </tbody>\n",
       "</table>\n",
       "</div>"
      ],
      "text/plain": [
       "                                          url жалобы  \\\n",
       "0  https://www.banki.ru/services/responses/bank/r...   \n",
       "1  https://www.banki.ru/services/responses/bank/r...   \n",
       "2  https://www.banki.ru/services/responses/bank/r...   \n",
       "3  https://www.banki.ru/services/responses/bank/r...   \n",
       "4  https://www.banki.ru/services/responses/bank/r...   \n",
       "\n",
       "                                           Заголовок  \\\n",
       "0                   Отличный банк!\\n\\t\\t\\t\\t\\t\\t\\t\\t   \n",
       "1  БУДЬТЕ ОЧЕНЬ БДИТЕЛЬНЫМИ  в этом банке!Не реко...   \n",
       "2  Названивают без повода, не слушают вообще ниче...   \n",
       "3                    Благодарность\\n\\t\\t\\t\\t\\t\\t\\t\\t   \n",
       "4  Отвратительное отношение к клиентам\\n\\t\\t\\t\\t\\...   \n",
       "\n",
       "                                               Текст             Время  \\\n",
       "0  Я давно сотрудничаю с этим банком. Специалисты...  15.05.2021 14:50   \n",
       "1  Придя в банк,я заняла очередь.Моим вопросом мо...  15.05.2021 14:44   \n",
       "2  Названивают мне с информацией о незнакомом мне...  15.05.2021 13:24   \n",
       "3  Обращался в Банк Тинькофф по поводу акции \"При...  15.05.2021 10:00   \n",
       "4  Обратился в банк т.к. появилось желания начать...  14.05.2021 23:23   \n",
       "\n",
       "   Оценка             Тематика  \\\n",
       "0     5.0        благодарность   \n",
       "1     2.0  плохое обслуживание   \n",
       "2     1.0          навязывание   \n",
       "3     5.0        благодарность   \n",
       "4     1.0  плохое обслуживание   \n",
       "\n",
       "                                         Заг_и_текст  \\\n",
       "0  Отличный банк!\\n\\t\\t\\t\\t\\t\\t\\t\\tЯ давно сотруд...   \n",
       "1  БУДЬТЕ ОЧЕНЬ БДИТЕЛЬНЫМИ  в этом банке!Не реко...   \n",
       "2  Названивают без повода, не слушают вообще ниче...   \n",
       "3  Благодарность\\n\\t\\t\\t\\t\\t\\t\\t\\tОбращался в Бан...   \n",
       "4  Отвратительное отношение к клиентам\\n\\t\\t\\t\\t\\...   \n",
       "\n",
       "                                          Пред_текст  \\\n",
       "0  отличный банк я давно сотрудничаю с этим банко...   \n",
       "1  будьте очень бдительными в этом банке не реком...   \n",
       "2  названивают без повода не слушают вообще ничег...   \n",
       "3  благодарность обращался в банк тинькофф по пов...   \n",
       "4  отвратительное отношение к клиентам обратился ...   \n",
       "\n",
       "                                          Стем_текст  \\\n",
       "0  отличн банк давн сотруднича эт банк специалист...   \n",
       "1  будьт очен бдительн банк рекоменд прид банк за...   \n",
       "2  названива повод слуша вообщ хам телефон исполь...   \n",
       "3  благодарн обраща банк тинькофф повод акц приве...   \n",
       "4  отвратительн отношен клиент обрат банк т появ ...   \n",
       "\n",
       "                                          Лемм_текст  \n",
       "0  отличный банк давно сотрудничать банк специали...  \n",
       "1  очень бдительный банк рекомендовать прийти бан...  \n",
       "2  названивать повод слушать вообще ничто хамить ...  \n",
       "3  благодарность обращаться банк тинькофф повод а...  \n",
       "4  отвратительный отношение клиент обращаться бан...  "
      ]
     },
     "execution_count": 10,
     "metadata": {},
     "output_type": "execute_result"
    }
   ],
   "source": [
    "%%time\n",
    "lemm_texts_list = []\n",
    "for text in df_train['Пред_текст']:\n",
    "    try:\n",
    "        text_lem = mystem.lemmatize(text)\n",
    "        tokens = [token for token in text_lem if token != ' ' and token not in russian_stopwords]\n",
    "        text = \" \".join(tokens)\n",
    "        lemm_texts_list.append(text)\n",
    "    except Exception as e:\n",
    "        print(e)\n",
    "    \n",
    "df_train['Лемм_текст'] = lemm_texts_list\n",
    "df_train.head()"
   ]
  },
  {
   "cell_type": "markdown",
   "metadata": {},
   "source": [
    "Применение результатов лемматизации"
   ]
  },
  {
   "cell_type": "markdown",
   "metadata": {},
   "source": [
    "Лемматизация.Подготовка выборок"
   ]
  },
  {
   "cell_type": "code",
   "execution_count": 11,
   "metadata": {
    "scrolled": true
   },
   "outputs": [],
   "source": [
    "X=df_train['Лемм_текст']\n",
    "y=df_train['Тематика']\n",
    "\n",
    "from sklearn.model_selection import train_test_split\n",
    "X_train, X_test, y_train, y_test = train_test_split(X, y, test_size=0.4, random_state = 37)"
   ]
  },
  {
   "cell_type": "markdown",
   "metadata": {},
   "source": [
    "Лемматизация.Naive Bayes"
   ]
  },
  {
   "cell_type": "code",
   "execution_count": 12,
   "metadata": {},
   "outputs": [
    {
     "name": "stdout",
     "output_type": "stream",
     "text": [
      "accuracy 0.577922077922078\n",
      "                       precision    recall  f1-score   support\n",
      "\n",
      "        благодарность       0.57      1.00      0.72       250\n",
      "  плохое обслуживание       0.00      0.00      0.00        12\n",
      "          навязывание       0.78      0.16      0.27       112\n",
      "                 сбой       0.00      0.00      0.00        20\n",
      "некачественная услуга       0.00      0.00      0.00        44\n",
      "       отказ в услуге       0.00      0.00      0.00        24\n",
      "\n",
      "             accuracy                           0.58       462\n",
      "            macro avg       0.22      0.19      0.16       462\n",
      "         weighted avg       0.50      0.58      0.46       462\n",
      "\n"
     ]
    },
    {
     "name": "stderr",
     "output_type": "stream",
     "text": [
      "C:\\Users\\shmel\\anaconda3\\lib\\site-packages\\sklearn\\metrics\\_classification.py:1245: UndefinedMetricWarning: Precision and F-score are ill-defined and being set to 0.0 in labels with no predicted samples. Use `zero_division` parameter to control this behavior.\n",
      "  _warn_prf(average, modifier, msg_start, len(result))\n",
      "C:\\Users\\shmel\\anaconda3\\lib\\site-packages\\sklearn\\metrics\\_classification.py:1245: UndefinedMetricWarning: Precision and F-score are ill-defined and being set to 0.0 in labels with no predicted samples. Use `zero_division` parameter to control this behavior.\n",
      "  _warn_prf(average, modifier, msg_start, len(result))\n",
      "C:\\Users\\shmel\\anaconda3\\lib\\site-packages\\sklearn\\metrics\\_classification.py:1245: UndefinedMetricWarning: Precision and F-score are ill-defined and being set to 0.0 in labels with no predicted samples. Use `zero_division` parameter to control this behavior.\n",
      "  _warn_prf(average, modifier, msg_start, len(result))\n"
     ]
    }
   ],
   "source": [
    "from sklearn.naive_bayes import MultinomialNB\n",
    "from sklearn.pipeline import Pipeline\n",
    "from sklearn.feature_extraction.text import TfidfTransformer\n",
    "from sklearn.feature_extraction.text import CountVectorizer\n",
    "\n",
    "nb = Pipeline([('vect', CountVectorizer()),\n",
    "               ('tfidf', TfidfTransformer()),\n",
    "               ('clf', MultinomialNB()),\n",
    "              ])\n",
    "\n",
    "nb.fit(X_train, y_train)\n",
    "\n",
    "from sklearn.metrics import classification_report\n",
    "y_pred = nb.predict(X_test)\n",
    "\n",
    "my_tags = df_train['Тематика'].unique()\n",
    "\n",
    "from sklearn.metrics import accuracy_score\n",
    "\n",
    "print('accuracy %s' % accuracy_score(y_pred, y_test))\n",
    "print(classification_report(y_test, y_pred, target_names=my_tags))"
   ]
  },
  {
   "cell_type": "markdown",
   "metadata": {},
   "source": [
    "Лемматизация. Linear Support Vector Machine"
   ]
  },
  {
   "cell_type": "code",
   "execution_count": 13,
   "metadata": {},
   "outputs": [
    {
     "name": "stdout",
     "output_type": "stream",
     "text": [
      "accuracy 0.645021645021645\n",
      "                       precision    recall  f1-score   support\n",
      "\n",
      "        благодарность       0.71      0.87      0.78       250\n",
      "  плохое обслуживание       0.25      0.08      0.12        12\n",
      "          навязывание       0.57      0.54      0.55       112\n",
      "                 сбой       0.25      0.05      0.08        20\n",
      "некачественная услуга       0.53      0.23      0.32        44\n",
      "       отказ в услуге       0.38      0.33      0.36        24\n",
      "\n",
      "             accuracy                           0.65       462\n",
      "            macro avg       0.45      0.35      0.37       462\n",
      "         weighted avg       0.61      0.65      0.61       462\n",
      "\n"
     ]
    }
   ],
   "source": [
    "from sklearn.linear_model import SGDClassifier\n",
    "\n",
    "sgd = Pipeline([('vect', CountVectorizer()),\n",
    "                ('tfidf', TfidfTransformer()),\n",
    "                ('clf', SGDClassifier(loss='hinge', penalty='l2',alpha=1e-3, random_state=42, max_iter=5, tol=None)),\n",
    "               ])\n",
    "\n",
    "sgd.fit(X_train, y_train)\n",
    "\n",
    "y_pred = sgd.predict(X_test)\n",
    "\n",
    "print('accuracy %s' % accuracy_score(y_pred, y_test))\n",
    "print(classification_report(y_test, y_pred,target_names=my_tags))"
   ]
  },
  {
   "cell_type": "markdown",
   "metadata": {},
   "source": [
    "Лемматизация.Logistic Regression"
   ]
  },
  {
   "cell_type": "code",
   "execution_count": 14,
   "metadata": {},
   "outputs": [
    {
     "name": "stdout",
     "output_type": "stream",
     "text": [
      "accuracy 0.6493506493506493\n",
      "                       precision    recall  f1-score   support\n",
      "\n",
      "        благодарность       0.73      0.86      0.79       250\n",
      "  плохое обслуживание       0.33      0.17      0.22        12\n",
      "          навязывание       0.55      0.50      0.52       112\n",
      "                 сбой       0.33      0.15      0.21        20\n",
      "некачественная услуга       0.52      0.30      0.38        44\n",
      "       отказ в услуге       0.42      0.42      0.42        24\n",
      "\n",
      "             accuracy                           0.65       462\n",
      "            macro avg       0.48      0.40      0.42       462\n",
      "         weighted avg       0.62      0.65      0.63       462\n",
      "\n"
     ]
    },
    {
     "name": "stderr",
     "output_type": "stream",
     "text": [
      "C:\\Users\\shmel\\anaconda3\\lib\\site-packages\\sklearn\\linear_model\\_logistic.py:765: ConvergenceWarning: lbfgs failed to converge (status=1):\n",
      "STOP: TOTAL NO. of ITERATIONS REACHED LIMIT.\n",
      "\n",
      "Increase the number of iterations (max_iter) or scale the data as shown in:\n",
      "    https://scikit-learn.org/stable/modules/preprocessing.html\n",
      "Please also refer to the documentation for alternative solver options:\n",
      "    https://scikit-learn.org/stable/modules/linear_model.html#logistic-regression\n",
      "  extra_warning_msg=_LOGISTIC_SOLVER_CONVERGENCE_MSG)\n"
     ]
    }
   ],
   "source": [
    "from sklearn.linear_model import LogisticRegression\n",
    "\n",
    "logreg = Pipeline([('vect', CountVectorizer()),\n",
    "                ('tfidf', TfidfTransformer()),\n",
    "                ('clf', LogisticRegression(n_jobs=1, C=1e5)),\n",
    "               ])\n",
    "\n",
    "logreg.fit(X_train, y_train)\n",
    "\n",
    "y_pred = logreg.predict(X_test)\n",
    "\n",
    "print('accuracy %s' % accuracy_score(y_pred, y_test))\n",
    "print(classification_report(y_test, y_pred,target_names=my_tags))"
   ]
  },
  {
   "cell_type": "markdown",
   "metadata": {},
   "source": [
    "Применение результатов стемминга"
   ]
  },
  {
   "cell_type": "markdown",
   "metadata": {},
   "source": [
    "Стемминг. Подготовка выборок"
   ]
  },
  {
   "cell_type": "code",
   "execution_count": 15,
   "metadata": {},
   "outputs": [],
   "source": [
    "X=df_train['Стем_текст']\n",
    "y=df_train['Тематика']\n",
    "\n",
    "X_train, X_test, y_train, y_test = train_test_split(X, y, test_size=0.4, random_state = 37)"
   ]
  },
  {
   "cell_type": "markdown",
   "metadata": {},
   "source": [
    "Стемминг. Naive Bayes"
   ]
  },
  {
   "cell_type": "code",
   "execution_count": 16,
   "metadata": {},
   "outputs": [
    {
     "name": "stdout",
     "output_type": "stream",
     "text": [
      "accuracy 0.5670995670995671\n",
      "                       precision    recall  f1-score   support\n",
      "\n",
      "        благодарность       0.56      0.99      0.72       250\n",
      "  плохое обслуживание       0.00      0.00      0.00        12\n",
      "          навязывание       0.70      0.12      0.21       112\n",
      "                 сбой       0.00      0.00      0.00        20\n",
      "некачественная услуга       0.00      0.00      0.00        44\n",
      "       отказ в услуге       0.00      0.00      0.00        24\n",
      "\n",
      "             accuracy                           0.57       462\n",
      "            macro avg       0.21      0.19      0.15       462\n",
      "         weighted avg       0.47      0.57      0.44       462\n",
      "\n"
     ]
    },
    {
     "name": "stderr",
     "output_type": "stream",
     "text": [
      "C:\\Users\\shmel\\anaconda3\\lib\\site-packages\\sklearn\\metrics\\_classification.py:1245: UndefinedMetricWarning: Precision and F-score are ill-defined and being set to 0.0 in labels with no predicted samples. Use `zero_division` parameter to control this behavior.\n",
      "  _warn_prf(average, modifier, msg_start, len(result))\n",
      "C:\\Users\\shmel\\anaconda3\\lib\\site-packages\\sklearn\\metrics\\_classification.py:1245: UndefinedMetricWarning: Precision and F-score are ill-defined and being set to 0.0 in labels with no predicted samples. Use `zero_division` parameter to control this behavior.\n",
      "  _warn_prf(average, modifier, msg_start, len(result))\n",
      "C:\\Users\\shmel\\anaconda3\\lib\\site-packages\\sklearn\\metrics\\_classification.py:1245: UndefinedMetricWarning: Precision and F-score are ill-defined and being set to 0.0 in labels with no predicted samples. Use `zero_division` parameter to control this behavior.\n",
      "  _warn_prf(average, modifier, msg_start, len(result))\n"
     ]
    }
   ],
   "source": [
    "nb.fit(X_train, y_train)\n",
    "\n",
    "y_pred = nb.predict(X_test)\n",
    "\n",
    "print('accuracy %s' % accuracy_score(y_pred, y_test))\n",
    "print(classification_report(y_test, y_pred, target_names=my_tags))"
   ]
  },
  {
   "cell_type": "markdown",
   "metadata": {},
   "source": [
    " Стемминг. Linear Support Vector Machine"
   ]
  },
  {
   "cell_type": "code",
   "execution_count": 17,
   "metadata": {},
   "outputs": [
    {
     "name": "stdout",
     "output_type": "stream",
     "text": [
      "accuracy 0.6406926406926406\n",
      "                       precision    recall  f1-score   support\n",
      "\n",
      "        благодарность       0.69      0.88      0.77       250\n",
      "  плохое обслуживание       0.50      0.25      0.33        12\n",
      "          навязывание       0.54      0.49      0.52       112\n",
      "                 сбой       0.25      0.05      0.08        20\n",
      "некачественная услуга       0.62      0.23      0.33        44\n",
      "       отказ в услуге       0.44      0.33      0.38        24\n",
      "\n",
      "             accuracy                           0.64       462\n",
      "            macro avg       0.51      0.37      0.40       462\n",
      "         weighted avg       0.61      0.64      0.61       462\n",
      "\n"
     ]
    }
   ],
   "source": [
    "sgd.fit(X_train, y_train)\n",
    "y_pred = sgd.predict(X_test)\n",
    "print('accuracy %s' % accuracy_score(y_pred, y_test))\n",
    "print(classification_report(y_test, y_pred,target_names=my_tags))"
   ]
  },
  {
   "cell_type": "markdown",
   "metadata": {},
   "source": [
    "Стемминг.Logistic Regression"
   ]
  },
  {
   "cell_type": "code",
   "execution_count": 18,
   "metadata": {
    "scrolled": false
   },
   "outputs": [
    {
     "name": "stdout",
     "output_type": "stream",
     "text": [
      "accuracy 0.6515151515151515\n",
      "                       precision    recall  f1-score   support\n",
      "\n",
      "        благодарность       0.72      0.86      0.78       250\n",
      "  плохое обслуживание       0.50      0.25      0.33        12\n",
      "          навязывание       0.55      0.51      0.53       112\n",
      "                 сбой       0.22      0.10      0.14        20\n",
      "некачественная услуга       0.62      0.34      0.44        44\n",
      "       отказ в услуге       0.43      0.38      0.40        24\n",
      "\n",
      "             accuracy                           0.65       462\n",
      "            macro avg       0.51      0.41      0.44       462\n",
      "         weighted avg       0.63      0.65      0.63       462\n",
      "\n"
     ]
    },
    {
     "name": "stderr",
     "output_type": "stream",
     "text": [
      "C:\\Users\\shmel\\anaconda3\\lib\\site-packages\\sklearn\\linear_model\\_logistic.py:765: ConvergenceWarning: lbfgs failed to converge (status=1):\n",
      "STOP: TOTAL NO. of ITERATIONS REACHED LIMIT.\n",
      "\n",
      "Increase the number of iterations (max_iter) or scale the data as shown in:\n",
      "    https://scikit-learn.org/stable/modules/preprocessing.html\n",
      "Please also refer to the documentation for alternative solver options:\n",
      "    https://scikit-learn.org/stable/modules/linear_model.html#logistic-regression\n",
      "  extra_warning_msg=_LOGISTIC_SOLVER_CONVERGENCE_MSG)\n"
     ]
    }
   ],
   "source": [
    "logreg.fit(X_train, y_train)\n",
    "y_pred = logreg.predict(X_test)\n",
    "print('accuracy %s' % accuracy_score(y_pred, y_test))\n",
    "print(classification_report(y_test, y_pred,target_names=my_tags))"
   ]
  },
  {
   "cell_type": "markdown",
   "metadata": {},
   "source": [
    "Лучший результат - Стемминг. Логистическая регрессия\n",
    "\n",
    "Изменение параметров"
   ]
  },
  {
   "cell_type": "code",
   "execution_count": 19,
   "metadata": {},
   "outputs": [
    {
     "name": "stdout",
     "output_type": "stream",
     "text": [
      "accuracy 0.658008658008658\n",
      "                       precision    recall  f1-score   support\n",
      "\n",
      "        благодарность       0.71      0.88      0.79       250\n",
      "  плохое обслуживание       0.25      0.08      0.12        12\n",
      "          навязывание       0.57      0.53      0.55       112\n",
      "                 сбой       0.33      0.10      0.15        20\n",
      "некачественная услуга       0.63      0.27      0.38        44\n",
      "       отказ в услуге       0.50      0.38      0.43        24\n",
      "\n",
      "             accuracy                           0.66       462\n",
      "            macro avg       0.50      0.37      0.40       462\n",
      "         weighted avg       0.63      0.66      0.63       462\n",
      "\n"
     ]
    },
    {
     "name": "stderr",
     "output_type": "stream",
     "text": [
      "C:\\Users\\shmel\\anaconda3\\lib\\site-packages\\sklearn\\linear_model\\_logistic.py:765: ConvergenceWarning: lbfgs failed to converge (status=1):\n",
      "STOP: TOTAL NO. of ITERATIONS REACHED LIMIT.\n",
      "\n",
      "Increase the number of iterations (max_iter) or scale the data as shown in:\n",
      "    https://scikit-learn.org/stable/modules/preprocessing.html\n",
      "Please also refer to the documentation for alternative solver options:\n",
      "    https://scikit-learn.org/stable/modules/linear_model.html#logistic-regression\n",
      "  extra_warning_msg=_LOGISTIC_SOLVER_CONVERGENCE_MSG)\n"
     ]
    }
   ],
   "source": [
    "logreg = Pipeline([('vect', CountVectorizer()),\n",
    "                ('tfidf', TfidfTransformer()),\n",
    "                ('clf', LogisticRegression(n_jobs=1, C=1e2, penalty='l2')),#изменили С, теперь результат максимальный\n",
    "               ])\n",
    "logreg.fit(X_train, y_train)\n",
    "y_pred = logreg.predict(X_test)\n",
    "print('accuracy %s' % accuracy_score(y_pred, y_test))\n",
    "print(classification_report(y_test, y_pred,target_names=my_tags))"
   ]
  },
  {
   "cell_type": "markdown",
   "metadata": {},
   "source": [
    " Боевое применение"
   ]
  },
  {
   "cell_type": "code",
   "execution_count": 20,
   "metadata": {},
   "outputs": [
    {
     "name": "stdout",
     "output_type": "stream",
     "text": [
      "975\n",
      "Wall time: 1min 4s\n"
     ]
    }
   ],
   "source": [
    "%%time\n",
    "#парсинг сайта\n",
    "ssl._create_default_https_context = ssl._create_unverified_context\n",
    "\n",
    "url = 'https://www.banki.ru/services/responses/bank/sberbank/product/investments/'\n",
    "r = requests.get(url)\n",
    "\n",
    "df_sber = pd.DataFrame(columns=['url жалобы', 'Заголовок', 'Текст', 'Время', 'Оценка'])\n",
    "\n",
    "soup = BeautifulSoup(r.text)\n",
    "\n",
    "pages = 38\n",
    "page_url= '?page='\n",
    "for page in range(1, pages + 2):\n",
    "    t.sleep(1)\n",
    "    for article in soup.findAll('article'):\n",
    "        try:\n",
    "            href = article.find('a', {'data-test': 'responses-header'}).get('href')\n",
    "            header = article.find('a', {'data-test': 'responses-header'}).text\n",
    "            text = article.find('div', {'data-test': 'responses-message'}).text.strip()\n",
    "            time = article.find('time', {'data-test': 'responses-datetime'}).text.strip()\n",
    "            \n",
    "            # optional\n",
    "            try:\n",
    "                rating = article.find('span', {'data-test': 'responses-rating-grade'}).text.strip()\n",
    "            except:\n",
    "                rating = None\n",
    "            row = [url[:21]+href[1:], header, text, time, rating]\n",
    "            df_sber.loc[len(df_sber)] = row\n",
    "        except:\n",
    "            pass\n",
    "    # Взятие следующей страницы\n",
    "    try:\n",
    "        if page <= pages:\n",
    "            r = requests.get(url + page_url + str(page))\n",
    "            soup = BeautifulSoup(r.text, features='lxml')\n",
    "    except:\n",
    "        pass\n",
    "print(len(df_sber))\n",
    "df_sber.to_excel('Отзывы_Сбербанк.xlsx')\n",
    "\n",
    "#Предобработка\n",
    "df_sber['Заг_и_текст']=df_sber['Заголовок']+df_sber['Текст']\n",
    "prep_text = [remove_multiple_spaces(remove_numbers(remove_punctuation(text.lower()))) for text in df_sber['Заг_и_текст']]\n",
    "df_sber['Пред_текст'] = prep_text\n",
    "df_sber.head()\n",
    "\n",
    "#Стемминг\n",
    "stemmed_texts_list = []\n",
    "for text in df_sber['Пред_текст']:\n",
    "    tokens = word_tokenize(text)    \n",
    "    stemmed_tokens = [stemmer.stem(token) for token in tokens if token not in russian_stopwords]\n",
    "    text = \" \".join(stemmed_tokens)\n",
    "    stemmed_texts_list.append(text)\n",
    "df_sber['Стем_текст'] = stemmed_texts_list\n",
    "\n",
    "#Обработка\n",
    "sber_pred = logreg.predict(df_sber['Стем_текст'])\n",
    "df_sber['Классификация']=sber_pred\n",
    "df_sber.drop(['Заг_и_текст', 'Пред_текст', 'Стем_текст'], axis=1, inplace=True)\n",
    "df_sber.to_excel('sber_broker_clsf.xlsx')\n",
    "\n",
    "#Сохранение результата\n",
    "df_sber.to_excel('sber_broker_clsf.xlsx')"
   ]
  },
  {
   "cell_type": "markdown",
   "metadata": {},
   "source": [
    "# Вывод"
   ]
  },
  {
   "cell_type": "markdown",
   "metadata": {},
   "source": [
    "Для нашей целей наиболее приемлемой моделью является многомерная классификация с использованием метода логистической регрессии.\n",
    "В то же время точность модели (accuracy) недостаточна.\n",
    "Причины:\n",
    "    - малое количество данных (количество обращений по брокерскому обслуживанию на сайте в целом небольшое);\n",
    "    - в качестве данных использовался заголовок обращения и первые 2-3 предложения, для получение большей информации необходимо проваливаться в каждое сообщение, что занимает больше времени \n",
    "    - небольшое количество размеченных данных (требуются дополнительные трудозатраты для классификации каждого обращения).\n",
    "\n",
    "Пути решения:\n",
    "    - использовать обращения с других сайтов, например broker-ratings.ru, smartlab.ru и т.д;\n",
    "    - настроить парсер на \"вытягивание\" всей сути обращения (быть готовым к увеличению времени работы алгоритма);\n",
    "    - накопить историю обращений."
   ]
  }
 ],
 "metadata": {
  "kernelspec": {
   "display_name": "Python 3",
   "language": "python",
   "name": "python3"
  },
  "language_info": {
   "codemirror_mode": {
    "name": "ipython",
    "version": 3
   },
   "file_extension": ".py",
   "mimetype": "text/x-python",
   "name": "python",
   "nbconvert_exporter": "python",
   "pygments_lexer": "ipython3",
   "version": "3.7.6"
  }
 },
 "nbformat": 4,
 "nbformat_minor": 4
}
